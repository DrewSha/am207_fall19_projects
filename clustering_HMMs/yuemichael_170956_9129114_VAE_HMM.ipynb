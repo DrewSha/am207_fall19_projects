{
 "cells": [
  {
   "cell_type": "markdown",
   "metadata": {
    "colab_type": "text",
    "id": "Zg1x2-FCHFNe"
   },
   "source": [
    "# Clustering Hidden Markov Models with Variational Hierarchical Expectation-Maximization (VHEM)\n",
    "Benton Liang, Madeleine Nakada, Hurlink Vongsachang, Michael Yue\n",
    "\n",
    "*Based on the 2014 paper by Coviello et. al.*"
   ]
  },
  {
   "cell_type": "code",
   "execution_count": 0,
   "metadata": {
    "colab": {
     "base_uri": "https://localhost:8080/",
     "height": 191
    },
    "colab_type": "code",
    "id": "bYRABcwlaTEw",
    "outputId": "feaae8e2-591c-4d76-c2fb-26676385eaf2"
   },
   "outputs": [
    {
     "name": "stdout",
     "output_type": "stream",
     "text": [
      "Requirement already satisfied: hmmlearn in /usr/local/lib/python3.6/dist-packages (0.2.3)\n",
      "Requirement already satisfied: scikit-learn>=0.16 in /usr/local/lib/python3.6/dist-packages (from hmmlearn) (0.21.3)\n",
      "Requirement already satisfied: scipy>=0.15 in /usr/local/lib/python3.6/dist-packages (from hmmlearn) (1.3.3)\n",
      "Requirement already satisfied: numpy>=1.10 in /usr/local/lib/python3.6/dist-packages (from hmmlearn) (1.17.4)\n",
      "Requirement already satisfied: joblib>=0.11 in /usr/local/lib/python3.6/dist-packages (from scikit-learn>=0.16->hmmlearn) (0.14.1)\n"
     ]
    }
   ],
   "source": [
    "# Install scikit-learn's implementation of HMMs (with Baum-Welch and Viterbi), hmmlearn\n",
    "!pip install hmmlearn\n",
    "\n",
    "import numpy as np\n",
    "import scipy as sp\n",
    "import matplotlib.pyplot as plt\n",
    "from math import *\n",
    "import hmmlearn.hmm as hmml"
   ]
  },
  {
   "cell_type": "markdown",
   "metadata": {
    "colab_type": "text",
    "id": "TIDNePz6Hmdh"
   },
   "source": [
    "# Introduction\n",
    "\n",
    "Given a hidden Markov mixture model $\\mathcal{M}^{(b)}$ composed of $K^{(b)}$ component HMMs, the goal of this paper is to implement an algorithm, variational hierarchical expectation-maximization, to find the reduced model $\\mathcal{M}^{(r)}$ with $K^{(r)}$ components where $K^{(r)}<K^{(b)}$."
   ]
  },
  {
   "cell_type": "markdown",
   "metadata": {
    "colab_type": "text",
    "id": "Oe4LxdDwHorF"
   },
   "source": [
    "The claim made in the paper is that HMMs cannot be clustered via their parameters (i.e., transition matrices, emission probabilities alone), since multiple sets of parameters can map to the same underlying distribution, making clustering over parameter space useless. A more meaningful clustering is based on the underlying distribution of the HMMs themselves: namely, we maximize the expected log-likelihood over al (specifically, a variational lower bound using a family of Gaussian mixture models). As a naive check on this claim, the relative success of this algorithm in comparison to traditional K-means clustering of parameters is what we will test below.\n",
    "\n",
    "It should also be noted that this specific model is not the only model that clusters via the underlying distributions of HMMs (i.e. Jebara et al., 2007), and shows improved performance compared to these other algorithms for more cosmetic reasons (Coviello et al.'s algorithm can learn *new* HMMs whose distributions represent the centers of HMMs clusters, and no sampling steps are required)."
   ]
  },
  {
   "cell_type": "markdown",
   "metadata": {
    "colab_type": "text",
    "id": "Eylor9D2A7N3"
   },
   "source": [
    "The paper derives a hierarchical expectation maximization (HEM) algorithm that, starting from a weighted group of HMMs termed a Hidden Markov Mixture Model (H3M) representing some overall model, estimates an H3M with fewer component HMMs that concisely represents and clusters the input HMMs (i.e., the input HMM distributions guide the estimation of the output mixture distribution). Each HMM has a Gaussian mixture model (GMM) modeling emission from a given hidden state; that is, the number of hidden states an HMM has is also the number of GMMs corresponding to it. This hierarchical model allows for maximum flexibility when learning the HMMs to model some arbitrary H3M distribution."
   ]
  },
  {
   "cell_type": "markdown",
   "metadata": {
    "colab_type": "text",
    "id": "WzBrCzzLPjBx"
   },
   "source": [
    "# Problem Statement\n",
    "\n",
    "Hidden Markov Models (HMMs), which are probabilistic models that aim to model sequential outputs over a series of hidden states, are an important class of models used for speech recognition, music analysis, identification, and time-series data. This paper by Coviello et al. aims to demonstrate an algorithm that can successfully cluster HMMs better than existing approaches that cluster HMMs.\n",
    "\n",
    "# Context & Scope\n",
    "\n",
    "After generating a bunch of HMMs, sometimes it might be useful to cluster these HMMs, in which case “clustering” refers to generating a new HMM that is representative of a group of “similar” HMMs. Applications of such HMM-clustering algorithms can be useful for clustering time-series data such as motion capture and music, hierarchical indexing for fast retrieval, and reducing the computational complexity of estimating mixtures of HMMs from large data sets (Coviello et al.). However, clustering of HMMs is not fairly well-researched field, and thus this paper aims to expand on the limited research that exists today."
   ]
  },
  {
   "cell_type": "markdown",
   "metadata": {
    "colab_type": "text",
    "id": "sxpUlaL7M7bY"
   },
   "source": [
    "# Existing Work\n",
    "\n",
    "Much of the existing work prior to Coviello et al. has focused on clustering HMMs based on their parameter space using naive methods such as k-means. However, as the authors point out, these naive methods fail when the HMM cannot be represented as a real vector in the euclidean space since then the difference between two HMMs cannot be calculated. Although there are some solutions to clustering HMMs that can’t be represented in euclidean space including spectral clustering, the authors assert that with these existing methods there is no way to generate the cluster center of a cluster. Rather, the only way to represent a cluster is to select one of the models in the cluster closest to the center, but there is no guarantee that this is truly the center of the cluster. This becomes especially problematic when the clusters contain only a few models since they may be spread out and no one model may be representative of the cluster. The KL-divergence can be a method of measuring distance between models in this type of cluster, but it relies on sampling which in a high dimensional sample space can be unreliable. \n",
    "\n",
    "# Contributions\n",
    "This paper offers a novel solution to the above shortcomings of existing HMM VHEM algorithms by clustering HMMs with respect to their probability distributions rather than parameters of the HMM or real samples. The algorithm utilizes virtual sampling by weighting the parameters of the different HMMs rather than actually sampling from H3M model.\n"
   ]
  },
  {
   "cell_type": "markdown",
   "metadata": {
    "colab_type": "text",
    "id": "3d4BFzdQreuu"
   },
   "source": [
    "# Notation"
   ]
  },
  {
   "cell_type": "markdown",
   "metadata": {
    "colab_type": "text",
    "id": "CoLU2_eflrDN"
   },
   "source": [
    "Below is the notation used in the paper (copied from Table 1). The notation is important because it allows us to differentiate between the base model and the reduced model.\n",
    "\n",
    "#### Variables\n",
    "| *variables* | *base model (b)* | *reduced model (r)* |\n",
    "|--------------------|--------------------|--------------------|\n",
    "| index for HMM components | $i$ | $j$ |\n",
    "| number of HMM components | $K^{(b)}$ | $K^{(r)}$ |\n",
    "| HMM states | $\\beta$ | $\\rho$ |\n",
    "| HMM state sequence | $\\mathbf{\\beta}=\\{\\beta_1,\\dots,\\beta_\\tau\\}$ |  $\\mathbf{\\rho}=\\{\\rho_1,\\dots,\\rho_\\tau\\}$ |\n",
    "| index for component of GMM | $m$ | $\\ell$ |\n",
    "| number of Gaussian components | $M$ | $M$|\n",
    "\n",
    "#### Models\n",
    "| *variables* | *base model (b)* | *reduced model (r)* |\n",
    "|--------------------|--------------------|--------------------|\n",
    "| H3M | $\\mathcal{M}^{(b)}$ | $\\mathcal{M}^{(r)}$ |\n",
    "| HMM component | $\\mathcal{M}^{(b)}_i$ | $\\mathcal{M}^{(r)}_j$\n",
    "| GMM emission | $\\mathcal{M}^{(b)}_{i,\\beta}$ | $\\mathcal{M}^{(b)}_{j,\\rho}$ |\n",
    "| Gaussian component | $\\mathcal{M}^{(b)}_{i,\\beta,m}$ | $\\mathcal{M}^{(b)}_{j,\\rho,\\ell}$ |\n",
    "\n",
    "#### Parameters\n",
    "| *variables* | *base model (b)* | *reduced model (r)* |\n",
    "|--------------------|--------------------|--------------------|\n",
    "| H3M component weight | $\\omega_i^{(b)}$ | $\\omega_j^{(r)}$ |\n",
    "| HMM initial state | $\\pi^{(b),i}$ |  $\\pi^{(r),j}$ | \n",
    "| HMM state transition matrix | $A^{(b),i} $ | $A^{(r),ij} $ |\n",
    "| GMM emission | $\\{c_{\\beta,m}^{(b),i},\\mu_{\\beta,m}^{(b),i},\\Sigma_{\\beta,m}^{(b),i}\\}_{m=1}^M$ | $\\{c_{\\rho,\\ell}^{(r),j},\\mu_{\\rho,\\ell}^{(r),j},\\Sigma_{\\rho,\\ell}^{(r),j}\\}_{\\ell=1}^M$ |\n"
   ]
  },
  {
   "cell_type": "markdown",
   "metadata": {
    "colab_type": "text",
    "id": "_pWoiVIQ5xQF"
   },
   "source": [
    "We've visualized the relation between the models below"
   ]
  },
  {
   "cell_type": "markdown",
   "metadata": {
    "colab_type": "text",
    "id": "Y2O2oB5mNlJz"
   },
   "source": [
    "![alt text](https://drive.google.com/uc?export=view&id=10WYqPzrHqZQSGtjTzzTvlfFbCM9-NgLB)\n"
   ]
  },
  {
   "cell_type": "code",
   "execution_count": 0,
   "metadata": {
    "colab": {},
    "colab_type": "code",
    "id": "heaU6h5x_ngQ"
   },
   "outputs": [],
   "source": [
    "# Gaussian Mixture Model\n",
    "class GMM():\n",
    "  def __init__(self, emissions):\n",
    "    # emissions is [[c, mu, Sigma] * (number of Gaussian components = M)], with c's adding to 1\n",
    "    self.emissions = np.array(emissions)\n",
    "    self.M = len(emissions)\n",
    "    self.components, self.means, self.sigma = np.array(emissions)[:, 0], np.array(emissions)[:, 1], np.array(emissions)[:, 2]\n",
    "\n",
    "# HMM has len(pi) = len(A[0]) = len(gmm) possible hidden states, each with its own possible GMM emissions\n",
    "class HMM():\n",
    "  def __init__(self, pi, A, gmms):\n",
    "    self.pi = pi\n",
    "    self.transitions = A\n",
    "    self.gmms = gmms\n",
    "\n",
    "# H3M is made up of HMMs\n",
    "class H3M():\n",
    "  def __init__(self, omega, hmms):\n",
    "    self.components = omega\n",
    "    self.hmms = hmms"
   ]
  },
  {
   "cell_type": "markdown",
   "metadata": {
    "colab_type": "text",
    "id": "i47r0xfb6R2P"
   },
   "source": [
    "# Technical Details / Algorithm\n",
    "\n",
    "We follow the format of a fairly typical EM algorithm. Most of the complexity comes from the fact that we have a hierarchical model composed of more simple models (H3Ms being a mixture of HMMs, and HMMs having a Gaussian mixture model for emission from each hidden state). Starting with the innermost model, a Gaussian mixture model, we compute the expected log-likelihood and variational lower bound and use that lower bound to calculate a variational lower bound for the model one level in the hierarchy up. Working backwards to the most complex model, we then maximize the lower bound over parameters for our proposed reduced model and get new parameters for HMMs in the reduced model.\n",
    "\n",
    "We alternate the expectation and maximization steps until the difference in our overall objective function, the expected log-likelihood of our virtual samples, reaches a stopping threshold of $10^{-3}$."
   ]
  },
  {
   "cell_type": "markdown",
   "metadata": {
    "colab_type": "text",
    "id": "OTVUP1h7FoMU"
   },
   "source": [
    "**Expectation Step**\n",
    "\n",
    "*Goal: obtain a family of lower bounds to the expected log-likelihood and then optimize over variational parameters to find the lower bound to the expected log likelihood.*\n",
    "1. For each pair of HMMS $\\mathcal{M}_i^{(s)}$ and $\\mathcal{M}_j^{(r)}$\n",
    "  1. For each pair of emission GMMS for state $\\beta$ of $\\mathcal{M}_i^{(s)}$ and $\\rho$ of $\\mathcal{M}_j^{(r)}$ \n",
    "    1. Compute the optimal variational distribution for the GMMs, where $\\hat{\\eta}_{\\ell|m}^{(i,\\beta),(j,\\rho)}$ is intuitively the probability that component $m$ for state $\\rho$ from the $j$th HMM in the reduced model corresponds to the component $\\ell$ for state $\\beta$ in the $i$th HMM in the base model\n",
    "    $$\\hat{\\eta}_{\\ell|m}^{(i,\\beta),(j,\\rho)}=\\frac{c^{(r),j}_{\\rho,\\ell}\\exp\\{E_{\\mathcal{M}_{i,\\beta,m}^{(b)}}[\\log p(y|\\mathcal{M}_{j,\\rho,\\ell}^{(r)})]}{\\sum_{\\ell'}c^{(r),j}_{\\rho,\\ell'}\\exp\\{E_{\\mathcal{M}_{i,\\beta,m}^{(b)}}[\\log p(y|\\mathcal{M}_{j,\\rho,\\ell'}^{(r)})]\\}}$$\n",
    "    4. Use the optimal variational distribution to calculate the optimal lower bound to the expected log likelihood \n",
    "    $$\\mathcal{L}_{GMM}^{(i,\\beta),(j,\\rho)}=\\sum_{m=1}^Mc_{\\beta,m}^{(b),i}\\sum_{\\ell=1}^M\\hat{\\eta}_{\\ell|m}^{(i,\\beta),(j,\\rho)}\\Bigg\\{\\log\\frac{c^{(r),j}_{\\rho,\\ell}}{\\hat{\\eta}_{\\ell|m}^{(i,\\beta),(j,\\rho)}}+E_{\\mathcal{M}_{i,\\beta,m}^{(b)}}[\\log p(y|\\mathcal{M}_{j,\\rho,\\ell}^{(r)}]\\Bigg\\}$$\n",
    "           Where (in our case having $d=1$ due to one-dimensional data in the HMMs)\n",
    "      $$E_{\\mathcal{M}_{i,\\beta,m}^{(b)}}[\\log p(y|\\mathcal{M}_{j,\\rho,\\ell}^{(r)}]=-\\frac{d}{2}\\log 2\\pi - \\frac{1}{2}\\log|\\Sigma_{\\rho,\\ell}^{(r),j}|-\\frac{1}{2}\\text{tr}\\big(\\Sigma_{\\rho,\\ell}^{(r),j})^{-1}\\Sigma_{\\beta,m}^{(b),i}\\big)-\\frac{1}{2}\\Big(\\mu_{\\rho,\\ell}^{(r),j}-\\mu_{\\beta,m}^{(b),i}\\Big)^T\\Big(\\Sigma_{\\rho,\\ell}^{(r),j}\\Big)^{-1}\\Big(\\mu_{\\rho,\\ell}^{(r),j}-\\mu_{\\beta,m}^{(b),i}\\Big)$$\n",
    "  5. Recursively compute the optimal variational distributions for the HMMs using the lower bounds from the GMMs\n",
    "        * For $t=\\tau,\\dots,2$ compute with \n",
    "        $$\\hat{\\phi}_t^{i,j}(\\rho_1|\\beta_1)=\\frac{a_{\\rho_{t-1},\\rho_t}^{(r),j}\\exp\\big\\{\\mathcal{L}_{GMM}^{(i,\\beta_t),(j,\\rho_t)}+\\mathcal{L}_{t+1}^{i,j}(\\beta_t,\\rho_t)\\big\\}}{\\sum_\\rho^Sa_{\\rho_{t-1},\\rho_t}^{(r),j}\\exp\\big\\{\\mathcal{L}_{GMM}^{(i,\\beta_t),(j,\\rho_t)}+\\mathcal{L}_{t+1}^{i,j}(\\beta_t,\\rho)\\big\\}}$$\n",
    "          Where \n",
    "          $$\\mathcal{L}_t^{i,j}(\\beta_{t-1},\\rho_{t-1})=\\sum_{\\beta=1}^Sa_{\\beta_{t-1},\\beta}^{(b),i}\\log\\sum_{\\rho=1}^Sa_{\\rho_{t-1},\\rho}^{(r),j}\\exp\\big\\{\\mathcal{L}_{GMM}^{(i,\\beta_1),(j,\\rho_1)}+\\mathcal{L}_2^{(i,j)}(\\beta,\\rho)\\big\\}$$\n",
    "          And base case\n",
    "          $$\\mathcal{L}_{\\tau+1}^{i,j}(\\beta_t,\\rho_t)=0$$\n",
    "        * Compute the initial case\n",
    "        $$\\hat{\\phi}_1^{i,j}(\\rho_1|\\beta_1)=\\frac{\\pi_{\\rho_1}^{(r)}\\exp\\big\\{\\mathcal{L}_{GMM}^{(i,\\beta_1),(j,\\rho_1)}+\\mathcal{L}_2^{i,j}(\\beta_1,\\rho_1)\\big\\}}{\\sum_\\rho^S\\pi_\\rho^{(r),j}\\exp\\big\\{\\mathcal{L}_{GMM}^{(i,\\beta_1),(j,\\rho_1})+\\mathcal{L}_2^{i,j}(\\beta_1,\\rho)\\big\\}}$$\n",
    "  6. Compute the optimal lower bound for the expected log-likelihood for the HMMs\n",
    "  $$\n",
    "\\mathcal{L}_{H M M}^{i, j}=\\sum_{\\boldsymbol{\\beta}} \\pi_{\\boldsymbol{\\beta}}^{(b), i} \\sum_{\\boldsymbol{\\rho}} \\hat{\\phi}^{i, j}(\\boldsymbol{\\rho} | \\boldsymbol{\\beta})\\left\\{\\log \\frac{\\pi_{\\boldsymbol{\\rho}}^{(r), j}}{\\hat{\\phi}^{i, j}(\\boldsymbol{\\rho} | \\boldsymbol{\\beta})}+\\sum_{t} \\mathcal{L}_{G M M}^{\\left(i, \\beta_{t}\\right),\\left(j, \\rho_{t}\\right)}\\right\\}\n",
    "$$\n",
    "7. Compute the optimal assignment probabilities of the $i$th HMM in the base model to the $j$th HMM in the reduced\n",
    "$$\\hat{z}_{ij}=\\frac{\\omega_j^{(r)}\\exp(N\\omega_i^{(b)}\\mathcal{L}_{HMM}^{i,j})}{\\sum_{j'}\\omega_{j'}^{(r)}\\exp(N\\omega_i^{(b)}\\mathcal{L}_{HMM}^{(i,j')})}$$\n",
    "8. For each pair of HMMs $\\mathcal{M}_i^{(s)}$ and $\\mathcal{M}_j^{(r)}$ compute the following summary statistics\n",
    "  1. Expected number of times the HMM $\\mathcal{M}_j^{(r)}$ starts from state $\\rho$ when modeling sequences generated by $\\mathcal{M}_i^{(b)}$\n",
    "  $$\\hat{v}_1^{i,j}(\\rho)=\\sum_{\\beta=1}^Sv_1^{i,j}(\\rho,\\beta)$$\n",
    "  Where $$v_1^{i,j}(\\rho_1,\\beta_1)=\\pi_{\\beta_1}^{(b),i}\\rho_1^{i,j}(\\rho_1|\\beta_1)$$\n",
    "  2. The expected number of times that the HMM $\\mathcal{M}_j^{(r)}$ is in state $\\rho$ when $\\mathcal{M}_i^{(b)}$ is in state $\\beta$ when both HMMs are modeling sequences generated by $\\mathcal{M}_i^{(b)}$\n",
    "  $$\\hat{v}^{i,j}(\\rho,\\beta)=\\sum_{t=1}^\\tau v_t^{i,j}(\\rho,\\beta)$$\n",
    "  Where\n",
    "  $$v^{i,j}_t(\\rho_t,\\beta_t)=\\sum_{\\rho_{t-1}=1}^S\\xi_t^{i,j}(\\rho_{t-1},\\rho_t,\\beta_t)$$\n",
    "  And\n",
    "  $$\\xi_t^{i,j}(\\rho_{t-1},\\rho_t,\\beta_t)=\\Big(\\sum_{\\beta_{t-1}=1}^Sv_{t-1}^{i,j}(\\rho_{t-1},\\beta_{t-1})a_{\\beta_{t-1},\\beta_t}^{(b),i}\\Big)\\hat{\\phi}_t^{i,j}(\\rho_t|\\rho_{t-1},\\beta_t)$$\n",
    "  For $t=2,\\dots,\\tau$\n",
    "  3. The expected number of transitions from state $\\rho$ to $\\rho'$ in $\\mathcal{M}_j^{(r)}$ when modeling sequences from $\\mathcal{M}_i^{(b)}$\n",
    "  $$\\hat{\\xi}^{i,j}(\\rho,\\rho')=\\sum_{t=1}^\\tau\\sum_{\\beta=1}^S\\xi_t^{i,j}(\\rho,\\rho',\\beta)$$\n",
    "    Using the equation from above"
   ]
  },
  {
   "cell_type": "markdown",
   "metadata": {
    "colab_type": "text",
    "id": "vOgctfAdFpue"
   },
   "source": [
    "\n",
    "**Maximization Step**\n",
    "*Goal: Given the lower bounds from the E-Step, maximize the lower bound with respect to parameters of $\\mathcal{M}^{(r)}$. This is done by plugging the above values into the following equations to solve for updated parameters of $\\mathcal{M}^{(r)}$:*\n",
    "$$\n",
    "\\omega_j^{(r)*} = \\frac{\\sum_{i=1}^{K^{(b)}} \\hat{z}_{i,j}}{K^{(b)}}\n",
    "$$\n",
    "\n",
    "$$\n",
    "\\pi_{\\rho}^{(r), j^{*}}=\\frac{\\sum_{i=1}^{K^{(b)}} \\hat{z}_{i, j} \\omega_{i}^{(b)} \\hat{\\nu}_{1}^{i, j}(\\rho)}{\\sum_{\\rho^{\\prime}=1}^{S} \\sum_{i=1}^{K^{(b)}} \\hat{z}_{i, j} \\omega_{i}^{(b)} \\hat{\\nu}_{1}^{i, j}\\left(\\rho^{\\prime}\\right)}\n",
    "\\quad\\quad\n",
    "a_{\\rho, \\rho^{\\prime}}^{(r), j^{*}}=\\frac{\\sum_{i=1}^{K^{(b)}} \\hat{z}_{i, j} \\omega_{i}^{(b)} \\hat{\\xi}^{i, j}\\left(\\rho, \\rho^{\\prime}\\right)}{\\sum_{\\sigma=1}^{S} \\sum_{i=1}^{K^{(b)}} \\hat{z}_{i, j} \\omega_{i}^{(b)} \\hat{\\xi}^{i, j}(\\rho, \\sigma)}\n",
    "$$\n",
    "\n",
    "$$\n",
    "c_{\\rho, \\ell}^{(r), j^{*}}=\\frac{\\Omega_{j, \\rho}\\left(\\hat{\\eta}_{\\ell | m}^{(i, \\beta),(j, \\rho)}\\right)}{\\sum_{\\ell^{\\prime}=1}^{M} \\Omega_{j, \\rho}\\left(\\hat{\\eta}_{\\ell^{\\prime} | m}^{(i, \\beta),(j, \\rho)}\\right)}\n",
    "\\quad\\quad\n",
    "\\mu_{\\rho, \\ell}^{(r), j^{*}}=\\frac{\\Omega_{j, \\rho}\\left(\\eta_{\\ell | m}^{(i, \\beta),(j, \\rho)} \\mu_{\\beta, m}^{(b), i}\\right)}{\\Omega_{j, \\rho}\\left(\\hat{\\eta}_{\\ell | m}^{(i, \\beta),(j, \\rho)}\\right)}\n",
    "$$\n",
    "\n",
    "$$\n",
    "\\Sigma_{\\rho, \\ell}^{(r), j^{*}}=\\frac{\\Omega_{j, \\rho}\\left(\\hat{\\eta}_{\\ell | m}^{(i, \\beta),(j, \\rho)}\\left[\\Sigma_{\\beta, m}^{(b), i}+\\left(\\mu_{\\beta, m}^{(b), i}-\\mu_{\\rho, \\ell}^{(r), j}\\right)\\left(\\mu_{\\beta, m}^{(b), i}-\\mu_{\\rho, \\ell}^{(r), j}\\right)^{T}\\right]\\right)}{\\Omega_{j, \\rho}\\left(\\hat{\\eta}_{\\ell | m}^{(i, \\beta),(j, \\rho)}\\right)}\n",
    "$$\n",
    "\n",
    "Where $\\Omega$ is the weighted sum over all base GMM components across all HMMs\n",
    "\n",
    "\n",
    "$$\n",
    "\\Omega_{j, \\rho}(f(i, \\beta, m))=\\sum_{i=1}^{K^{(b)}} \\hat{z}_{i, j} \\omega_{i}^{(b)} \\sum_{\\beta=1}^{S} \\hat{\\nu}^{i, j}(\\rho, \\beta) \\sum_{m=1}^{M} c_{\\beta, m}^{(b), i} f(i, \\beta, m)\n",
    "$$\n",
    "\n",
    "We repeat the expectation and maximum steps until convergence, as judged by changes in $\\mathcal{L}_{H3M}$."
   ]
  },
  {
   "cell_type": "markdown",
   "metadata": {
    "colab_type": "text",
    "id": "6xdZZYMy6UuA"
   },
   "source": [
    "# Implementation"
   ]
  },
  {
   "cell_type": "code",
   "execution_count": 0,
   "metadata": {
    "colab": {},
    "colab_type": "code",
    "id": "5S9lFW2QWqwg"
   },
   "outputs": [],
   "source": [
    "class VHEM():\n",
    "  def __init__(self, base: H3M, reduced: H3M, N: int, tau: int, states):\n",
    "    # base and reduced H3M models\n",
    "    self.base = base\n",
    "    self.reduced = reduced\n",
    "\n",
    "    # number of virtual samples\n",
    "    self.N = N\n",
    "\n",
    "    # time that we sample over\n",
    "    self.tau = tau\n",
    "\n",
    "    # all possible states [0, ..., S]\n",
    "    self.states = states\n",
    "    self.S = len(states)\n",
    "\n",
    "    # number of base and reduced components\n",
    "    self.K_base = len(base.components)\n",
    "    self.K_reduced = len(reduced.components)\n",
    "\n",
    "  def init_ixj(self, val=None):\n",
    "    return [[val for _ in range(self.K_reduced)] for _ in range(self.K_base)]\n",
    "\n",
    "  # initializes an SxS matrix\n",
    "  def init_betaxrho(self):\n",
    "    return [[None for _ in self.states] for _ in self.states]\n",
    "\n",
    "  # -------- LINE 8 --------\n",
    "  # takes in vectors of c, mu, sigma and returns vector\n",
    "  # assumes one dimension\n",
    "  def expected_log_likelihood(self, base_em, red_em):\n",
    "    _, b_mean, b_sigma = base_em\n",
    "    _, r_mean, r_sigma = red_em\n",
    "    return -1/2*np.log(2*np.pi) -1/2*np.log(r_sigma) - 1/2*b_sigma/r_sigma - 1/2/r_sigma*(r_mean - b_mean)**2\n",
    "    \n",
    "  # passing in [components, means, sigmas]\n",
    "  def optimal_var_dist(self, base_gau, red_gau):\n",
    "    r_c, _, _ = red_gau\n",
    "    numerator = r_c * np.exp(self.expected_log_likelihood(base_gau, red_gau))\n",
    "    denominator = np.sum(numerator)\n",
    "    return numerator / denominator\n",
    "\n",
    "  # -------- LINE 9 --------\n",
    "  def lower_bound(self, base_em, red_em, etas):\n",
    "    b_c = np.array(base_em)[:, 0]\n",
    "    r_c = np.array(red_em)[:, 0]\n",
    "    lb = 0\n",
    "    for m in range(len(base_em)):\n",
    "      s = 0\n",
    "      for l in range(len(red_em)):\n",
    "        s += etas[m][l] * (np.log(r_c[l]/etas[m][l]) + self.expected_log_likelihood(base_em[m], red_em[l]))\n",
    "      lb += b_c[m] * s\n",
    "    return lb\n",
    "\n",
    "  # -------- LINE 10 --------\n",
    "  def phi_hat(self, l, a, A, lgmm, last_rho):\n",
    "    return a * np.exp(lgmm + l) / np.sum([A[last_rho][rho] * np.exp(lgmm + l) for rho in self.states])\n",
    "\n",
    "  def new_l(self, A_base, A_reduced, beta_last, rho_last, LGMM, L):\n",
    "    return np.sum([A_base[beta_last][beta] * np.log(np.sum([A_reduced[rho_last][rho] * np.exp(LGMM[beta][rho] + L[beta][rho]) for rho in self.states])) for beta in self.states])\n",
    "\n",
    "  # -------- LINE 11 --------\n",
    "  def get_sequences(self):\n",
    "    sequences = np.array(self.states).reshape(len(self.states), 1).tolist()\n",
    "    for _ in range(self.tau-1):\n",
    "      s = []\n",
    "      for sequence in sequences:\n",
    "        for state in self.states:\n",
    "          s.append(sequence + [state])\n",
    "      sequences = s\n",
    "    return sequences\n",
    "\n",
    "  def iterate_optimal_dists(self, tau, A_base, A_reduced, LGMM, L, base_pi, reduced_pi):\n",
    "    L_new = self.init_betaxrho()\n",
    "    if tau > 1:\n",
    "      phis = self.init_betaxrho()\n",
    "      for beta in self.states:\n",
    "        for rho in self.states:\n",
    "          rho_list = []\n",
    "          for rho_last in self.states:\n",
    "            rho_list.append(self.phi_hat(L[beta][rho], A_reduced[rho_last][rho], A_reduced, LGMM[beta][rho], rho_last))\n",
    "          phis[beta][rho] = rho_list\n",
    "          L_new[beta][rho] = self.new_l(A_base, A_reduced, beta, rho, LGMM, L)  \n",
    "      phi_list, final_L = self.iterate_optimal_dists(tau-1, A_base, A_reduced, LGMM, L_new, base_pi, reduced_pi) \n",
    "      phi_list += [phis]\n",
    "      return phi_list, final_L\n",
    "    else:\n",
    "      phis = self.init_betaxrho()\n",
    "      for beta in self.states:\n",
    "        for rho in self.states:\n",
    "          phis[beta][rho] = reduced_pi[rho] * np.exp(LGMM[beta][rho] + L[beta][rho]) / np.sum([reduced_pi[rho] * np.exp(LGMM[beta][rho] + L[beta][rho]) for rho in self.states])\n",
    "      final_L = np.sum([base_pi[beta] * np.log(np.sum([reduced_pi[rho] * np.exp(LGMM[beta][rho] + L[beta][rho]) for rho in self.states])) for beta in self.states])\n",
    "      return [phis], final_L\n",
    "\n",
    "  def sum_lgmm(self, betas, rhos, LGMM):\n",
    "    return np.sum([LGMM[beta][rho] for beta, rho in list(zip(betas, rhos))])\n",
    "\n",
    "  def calculate_phi(self, phis, rhos, betas, tau):\n",
    "    accumulator = 1\n",
    "    for t in range(tau):\n",
    "      phi = phis[t]\n",
    "      rho = rhos[t]\n",
    "      beta = betas[t]\n",
    "      if t > 0:\n",
    "        last_rho = rhos[t-1]\n",
    "        accumulator = accumulator * phi[beta][rho][last_rho]\n",
    "      else:\n",
    "        accumulator = accumulator * phi[beta][rho]\n",
    "        \n",
    "    return accumulator\n",
    "\n",
    "  def Omega(self, etas, K, M, c, j, rho, l, v, z, weights, params, f):\n",
    "    i_acc = 0\n",
    "    for i in range(K):\n",
    "      beta_acc = 0\n",
    "      for beta in self.states:\n",
    "        m_acc = 0\n",
    "        for m in range(M):\n",
    "          m_acc += c[i][beta][m] * f(etas, i, j, beta, rho, m, l, params) \n",
    "        beta_acc += m_acc * v[i][j][beta][rho]\n",
    "      i_acc += beta_acc * z[i][j] * weights[i]\n",
    "    return i_acc\n",
    "\n",
    "  def run_VHEM(self):\n",
    "    \n",
    "    # LINE 3 repeat until convergence\n",
    "    last_val = 0\n",
    "    diff = -1\n",
    "    objective_list = []\n",
    "    \n",
    "    while diff > 10e-3 or diff < 0:\n",
    "      print(\"diff: \",diff)\n",
    "\n",
    "      # LINE 6 for each pair of HMMS\n",
    "      phis = self.init_ixj()\n",
    "      LHMMs = self.init_ixj()\n",
    "      etas = self.init_ixj(self.init_betaxrho())\n",
    "  \n",
    "      for i, base_hmm in enumerate(self.base.hmms):\n",
    "        for j, red_hmm in enumerate(self.reduced.hmms):\n",
    "          # S x S to store lower bounds\n",
    "          LGMM = self.init_betaxrho()\n",
    "          \n",
    "          # LINE 7 for each pair of emission GMMS for state beta of base and state rho of reduced\n",
    "          for beta, base_gmm in enumerate(base_hmm.gmms):\n",
    "            for rho, red_gmm in enumerate(red_hmm.gmms):\n",
    "              base_emission = base_gmm.emissions\n",
    "              red_emission = red_gmm.emissions\n",
    "              # M x M to store eta\n",
    "              eta = [[None for _ in range(len(red_emission))] for _ in range(len(base_emission))]\n",
    "              # iterates over gaussian components\n",
    "              for l, base_gaussian in enumerate(base_emission):\n",
    "                for m, red_gaussian in enumerate(red_emission):\n",
    "                  # assuming gmm is list of [(c, mu, sigma)]\n",
    "                  eta[l][m] = self.optimal_var_dist(base_gaussian, red_gaussian)\n",
    "                LGMM[beta][rho] = self.lower_bound(base_emission, red_emission, eta)\n",
    "              etas[i][j][beta][rho] = eta\n",
    "\n",
    "          phis[i][j], LHMMs[i][j] = self.iterate_optimal_dists(self.tau, base_hmm.transitions, red_hmm.transitions, LGMM, np.zeros_like(LGMM), base_hmm.pi, red_hmm.pi)\n",
    "          sequences = self.get_sequences()\n",
    "      # compute optimal assignment probabiliities\n",
    "      zs = []\n",
    "      for i in range(self.K_base):\n",
    "        z = []\n",
    "        for j in range(self.K_reduced):\n",
    "          z_ij = self.reduced.components[j] * np.exp(self.N * self.base.components[i] * LHMMs[i][j]) / np.sum([self.reduced.components[j_prime] * np.exp(self.N * self.base.components[i] * LHMMs[i][j_prime]) for j_prime in range(self.K_reduced)])\n",
    "          z.append(z_ij)\n",
    "        zs.append(z)\n",
    "      # compute aggregate summary statistics\n",
    "      v1s = self.init_ixj()\n",
    "      for i in range(self.K_base):\n",
    "        for j in range(self.K_reduced):\n",
    "          v1s[i][j] = [[self.base.hmms[i].pi[beta] * phis[i][j][0][beta][rho] for beta in self.states] for rho in self.states]\n",
    "\n",
    "      v_intermediate = [v1s]\n",
    "      xi_intermediate = [None]\n",
    "      for t in range(1, self.tau):\n",
    "        last_v = v_intermediate[-1]\n",
    "        temp_xis = [[[[[np.sum([last_v[i][j][last_beta][last_rho] * self.base.hmms[i].transitions[last_beta][beta] for last_beta in self.states]) * phis[i][j][t][beta][rho][last_rho] for last_rho in self.states] for rho in self.states] for beta in self.states] for j in range(self.K_reduced)] for i in range(self.K_base)]\n",
    "        temp_vs = [[[[np.sum([temp_xis[i][j][beta][rho][last_rho] for last_rho in self.states]) for rho in self.states] for beta in self.states] for j in range(self.K_reduced)] for i in range(self.K_base)]\n",
    "        xi_intermediate.append(temp_xis)\n",
    "        v_intermediate.append(temp_vs)\n",
    "\n",
    "      v1_aggregate = self.init_ixj()\n",
    "      for i in range(self.K_base):\n",
    "        for j in range(self.K_reduced):\n",
    "          v1_aggregate[i][j] = [np.sum([v1s[i][j][beta][rho] for rho in self.states]) for beta in self.states]\n",
    "\n",
    "      v_aggregate = self.init_ixj()\n",
    "      for i in range(self.K_base):\n",
    "        for j in range(self.K_reduced):\n",
    "          v_aggregate[i][j] = [[np.sum([v_intermediate[t][i][j][beta][rho] for t in range(self.tau)]) for rho in self.states] for beta in self.states]\n",
    "\n",
    "      xi_aggregate = self.init_ixj()\n",
    "      for i in range(self.K_base):\n",
    "        for j in range(self.K_reduced):\n",
    "          xi_aggregate[i][j] = [[np.sum([np.sum([xi_intermediate[t][i][j][beta][rho_prime][rho] for beta in self.states]) for t in range(1, self.tau)]) for rho_prime in self.states] for rho in self.states]\n",
    "\n",
    "      # for each component in reduced recompute parameters\n",
    "      for j, hmm in enumerate(self.reduced.hmms):\n",
    "        self.reduced.components[j] = np.sum([zs[i][j] for k in range(self.K_reduced)]) / self.K_reduced\n",
    "\n",
    "        pi_denom = np.sum([np.sum([zs[i][j] * self.base.components[i] * v1_aggregate[i][j][rho_prime] for i in range(self.K_base)]) for rho_prime in self.states])\n",
    "        hmm.pi = [np.sum([zs[i][j] * self.base.components[i] * v1_aggregate[i][j][rho] for i in range(self.K_base)]) for rho in self.states] / pi_denom\n",
    "\n",
    "        hmm.transitions = [[np.sum([zs[i][j] * self.base.components[i] * xi_aggregate[i][j][rho][rho_prime] for i in range(self.K_base)]) / np.sum([np.sum([zs[i][j] * self.base.components[i] * xi_aggregate[i][j][rho][sigma] for i in range(self.K_base)]) for sigma in self.states]) for rho_prime in self.states] for rho in self.states]\n",
    "\n",
    "        all_gmm_components = [[gmm.components for gmm in hmm.gmms] for hmm in self.base.hmms]\n",
    "        all_gmm_means = [[gmm.means for gmm in hmm.gmms] for hmm in self.base.hmms]\n",
    "        all_gmm_sigma = [[gmm.sigma for gmm in hmm.gmms] for hmm in self.base.hmms]\n",
    "        old_reduced_means = [[gmm.means for gmm in hmm.gmms] for hmm in self.reduced.hmms]\n",
    "\n",
    "        # one emission GMM for each state\n",
    "        for rho, gmm in enumerate(hmm.gmms):\n",
    "          c_func = lambda etas, i, j, beta, rho, m, l, params: etas[i][j][beta][rho][l][m]\n",
    "          M=len(gmm.components)\n",
    "          gmm.components = [self.Omega(etas=etas, K=self.K_base, M=M, c=all_gmm_components, j=j, rho=rho, l=ell, v=v_aggregate, z=zs, weights=self.base.components, params=None, f=c_func) / np.sum([self.Omega(etas, self.K_base, len(gmm.components), all_gmm_components, j, rho, ell_prime, v_aggregate, zs, self.base.components, None, c_func) for ell_prime in range(len(gmm.components))]) for ell in range(M)]\n",
    "          mean_func = lambda etas, i, j, beta, rho, m, l, params: etas[i][j][beta][rho][l][m] * params[\"mu\"][i][beta][m]\n",
    "          mean_params = {\"mu\" : all_gmm_means}\n",
    "          gmm.means = [self.Omega(etas, self.K_base, len(gmm.components), all_gmm_components, j, rho, ell, v_aggregate, zs, self.base.components, mean_params, mean_func) / self.Omega(etas, self.K_base, len(gmm.components), all_gmm_components, j, rho, ell, v_aggregate, zs, self.base.components, None, c_func) for ell in range(M)]\n",
    "          sigma_func = lambda etas, i, j, beta, rho, m, l, params:  etas[i][j][beta][rho][l][m] * (params[\"sigma\"][i][beta][m] + (params[\"base_mus\"][i][beta][m] - params[\"red_mu\"][j][rho][l]) * (params[\"base_mus\"][i][beta][m] - params[\"red_mu\"][j][rho][l]).T)\n",
    "          sigma_params = {\"base_mus\" : all_gmm_means, \"red_mu\" : old_reduced_means, \"sigma\" : all_gmm_sigma}\n",
    "          gmm.sigma = [self.Omega(etas = etas, K = self.K_base, M = M, c=all_gmm_components, j=j, rho=rho, l=ell, v=v_aggregate, z=zs, weights=self.base.components, params=sigma_params, f=sigma_func) / self.Omega(etas=etas, K=self.K_base, M=M, c=all_gmm_components, j=j, rho=rho, l=ell, v=v_aggregate, z=zs, weights=self.base.components, params=None, f=c_func) for ell in range(M)]\n",
    "      objective_func = np.max([np.sum([zs[i][j] * (np.log(self.reduced.components[j] / zs[i][j]) + self.N * self.base.components[j] * LHMMs[i][j]) if zs[i][j] != 0 else 0 for j in range(self.K_reduced)]) for i in range(self.K_base)])\n",
    "      print(\"OBJ\", objective_func)\n",
    "      diff = 0\n",
    "      if diff == -1:\n",
    "        diff = -2\n",
    "      else:\n",
    "        diff = abs(last_val - objective_func)\n",
    "      print(\"new diff\", diff)\n",
    "      last_val = objective_func\n",
    "      objective_list.append(objective_func)\n",
    "\n",
    "    return objective_list, zs, self.reduced"
   ]
  },
  {
   "cell_type": "markdown",
   "metadata": {
    "colab_type": "text",
    "id": "-HC_k3KozIsO"
   },
   "source": [
    "# Experiments / Results"
   ]
  },
  {
   "cell_type": "markdown",
   "metadata": {
    "colab_type": "text",
    "id": "QXv9JPHPzO3t"
   },
   "source": [
    "Following a simplified version of a toy example from Coviello et al., we first construct two distinct HMMs. We then create two HMMs from each of the original HMMs by sampling an original HMM and then running the Baum-Welch algorithm on the samples with added Gaussian noise to generate an HMM that represents a slightly different distribution. We then input all four generate HMMs as a base H3M model into our VHEM algorithm and attempt to generate a reduced H3M model with two HMMs that match our original two HMMs."
   ]
  },
  {
   "cell_type": "code",
   "execution_count": 0,
   "metadata": {
    "colab": {},
    "colab_type": "code",
    "id": "ZLQf1gZobAxP"
   },
   "outputs": [],
   "source": [
    "def two_different_hmms():\n",
    "  base1 = hmml.GMMHMM(n_components = 3)\n",
    "  base1.fit(15 * np.random.beta(45, 10, 10000).reshape(-1, 1))\n",
    "  base2 = hmml.GMMHMM(n_components = 3)\n",
    "  base2.fit(15 * np.random.beta(5, 10, 10000).reshape(-1, 1))\n",
    "  return [base1, base2]\n",
    "\n",
    "def two_similar_hmms():\n",
    "  base1 = hmml.GMMHMM(n_components = 3)\n",
    "  base1.fit(15 * np.random.beta(1, 3, 10000).reshape(-1, 1))\n",
    "  base2 = hmml.GMMHMM(n_components = 3)\n",
    "  base2.fit(15 * np.random.beta(1.5, 3, 10000).reshape(-1, 1))\n",
    "  return [base1, base2]\n",
    "\n",
    "def two_reduced_hmms():\n",
    "  base1 = hmml.GMMHMM(n_components = 3)\n",
    "  base1.fit(np.random.normal(15,2,size=1000).reshape(-1,1))\n",
    "  base2 = hmml.GMMHMM(n_components = 3)\n",
    "  base2.fit(np.random.normal(1,2,size=1000).reshape(-1,1))\n",
    "  return [base1, base2]\n",
    "\n",
    "def coviello_hmms():\n",
    "  base1 = hmml.GMMHMM(n_components = 3)\n",
    "  base2 = hmml.GMMHMM(n_components = 3)\n",
    "  base3 = hmml.GMMHMM(n_components = 3)\n",
    "  base4 = hmml.GMMHMM(n_components = 3)\n",
    "  base1.startprob_ = base2.startprob_ = base3.startprob_ = base4.startprob_ = np.ones(3)/3\n",
    "  base1.transmat_ = base2.transmat_ = base3.transmat_ = base4.transmat_ = np.array([[0.8, 0.1, 0.1], [0.2, 0.8, 0], [0, 0.2, 0.8]])\n",
    "  base1.weights_ = base2.weights_ = base3.weights_ = base4.weights_ = np.ones(3).reshape(-1, 1)\n",
    "  base1.covars_ = base2.covars_ = base3.covars_ = base4.covars_ = np.ones(3).reshape(-1, 1, 1)/2\n",
    "  base1.means_ = np.array([1, 2, 3]).reshape(-1, 1, 1)\n",
    "  base2.means_ = np.array([3, 2, 1]).reshape(-1, 1, 1)\n",
    "  base3.means_ = np.array([1, 2, 2]).reshape(-1, 1, 1) \n",
    "  base4.means_ = np.array([1, 3, 3]).reshape(-1, 1, 1)\n",
    "  return [base1, base2, base3, base4]\n",
    "\n",
    "def generate_synthetic(HMMs, K = 2, T = 100, sigma = 3, n_states = 3, n_mix = 1):\n",
    "  \"\"\" \n",
    "  Params:\n",
    "  HMMs (list of hmml.GMMHMM()s)\n",
    "  K (number of HMMs to generate from each of the base HMMs)\n",
    "  sigma (stdev of noise added before Baum-Welch)\n",
    "  T (number of samples in the HMMs)\n",
    "  n_states (number of hidden states)\n",
    "  n_mix (number of mixture components per HMM)\n",
    "\n",
    "  Returns an H3M() object corresponding to base model to be reduced by VHEM\n",
    "  \"\"\"\n",
    "  ret1 = []\n",
    "  ret2 = []\n",
    "  for hmm in HMMs:\n",
    "    ys = hmm.sample(T)[0]\n",
    "    for i in range(K):\n",
    "      ys_noise = ys + np.random.normal(0, sigma, ys.shape[0])\n",
    "      sampled = hmml.GMMHMM(n_components = n_states, n_mix = n_mix)\n",
    "      sampled.fit(ys_noise.reshape(-1, 1))\n",
    "      ret2.append(sampled)\n",
    "      ret1.append(HMM(sampled.startprob_, sampled.transmat_, [GMM([[sampled.weights_[i, j], sampled.means_[i, j, 0], sampled.covars_[i, j, 0]] for j in range(n_mix)]) for i in range(n_states)]))\n",
    "  return H3M(np.ones(K*len(HMMs))/K/len(HMMs), ret1), ret2"
   ]
  },
  {
   "cell_type": "markdown",
   "metadata": {
    "colab_type": "text",
    "id": "rlALUqSg4ZsR"
   },
   "source": [
    "Below is a visualization of initial emission distributions for our first example, which splits each of these two HMMs into two slightly different HMMs. We expect this to yield good clustering results due to the dramatic difference in distributions. Note that since we generated samples randomly to be inputted into Baum-Welch for this toy example, there is no correlation between consective samples in the sequence and we have trivial transition matrices for the resulting HMMs, which allows us to visualize the distribution just by histogramming the samples."
   ]
  },
  {
   "cell_type": "markdown",
   "metadata": {
    "colab_type": "text",
    "id": "ySXW7DXnN9v2"
   },
   "source": [
    "**This is the reduced model input**"
   ]
  },
  {
   "cell_type": "code",
   "execution_count": 0,
   "metadata": {
    "colab": {
     "base_uri": "https://localhost:8080/",
     "height": 265
    },
    "colab_type": "code",
    "id": "wrdAvPyjz3kC",
    "outputId": "ce8fa4b3-5fcf-44f6-c5c1-7e6758760dd9"
   },
   "outputs": [
    {
     "data": {
      "image/png": "[encoded data removed]",
      "text/plain": [
       "<Figure size 432x288 with 1 Axes>"
      ]
     },
     "metadata": {
      "tags": []
     },
     "output_type": "display_data"
    }
   ],
   "source": [
    "for hmm in two_reduced_hmms():\n",
    "  plt.hist(hmm.sample(1000)[0], bins=50)\n",
    "plt.show()"
   ]
  },
  {
   "cell_type": "markdown",
   "metadata": {
    "colab_type": "text",
    "id": "IgxN0kzZOXpT"
   },
   "source": [
    "**This is the model we are trying to cluster**"
   ]
  },
  {
   "cell_type": "code",
   "execution_count": 0,
   "metadata": {
    "colab": {
     "base_uri": "https://localhost:8080/",
     "height": 265
    },
    "colab_type": "code",
    "id": "JwPpLEn13FDP",
    "outputId": "d6178877-46f8-4ef3-9454-c79c4de0dd82"
   },
   "outputs": [
    {
     "data": {
      "image/png": "[encoded data removed]",
      "text/plain": [
       "<Figure size 432x288 with 1 Axes>"
      ]
     },
     "metadata": {
      "tags": []
     },
     "output_type": "display_data"
    }
   ],
   "source": [
    "for hmm in two_different_hmms():\n",
    "  plt.hist(hmm.sample(1000)[0], bins=50)\n",
    "plt.show()"
   ]
  },
  {
   "cell_type": "markdown",
   "metadata": {
    "colab_type": "text",
    "id": "LPH65gkwO0dm"
   },
   "source": [
    "*Run VHEM with these inputs*"
   ]
  },
  {
   "cell_type": "code",
   "execution_count": 0,
   "metadata": {
    "colab": {
     "base_uri": "https://localhost:8080/",
     "height": 272
    },
    "colab_type": "code",
    "id": "M_81dDAzSQby",
    "outputId": "5c8abbd6-81f6-42d7-a20e-af8dc5ce54e9"
   },
   "outputs": [
    {
     "name": "stdout",
     "output_type": "stream",
     "text": [
      "diff:  -1\n",
      "OBJ -95.32743261469516\n",
      "new diff 95.32743261469516\n",
      "diff:  95.32743261469516\n",
      "OBJ -85.73498833420628\n",
      "new diff 9.592444280488877\n",
      "diff:  9.592444280488877\n",
      "OBJ -84.56234345038175\n",
      "new diff 1.1726448838245318\n",
      "diff:  1.1726448838245318\n",
      "OBJ -84.50878026056125\n",
      "new diff 0.05356318982049402\n",
      "diff:  0.05356318982049402\n",
      "OBJ -84.50221024275695\n",
      "new diff 0.0065700178043073265\n"
     ]
    }
   ],
   "source": [
    "initial_h3m_two_base, initial_h3m_two_base_a = generate_synthetic(two_different_hmms(), T=10, sigma=4)\n",
    "reduced_h3m_two_base, _ = generate_synthetic(two_reduced_hmms(), T=10, sigma=4, K=1)\n",
    "two_base = VHEM(initial_h3m_two_base, reduced_h3m_two_base, N=10, tau=10, states=[0,1,2])\n",
    "objective_list1, zs1, reduced1 = two_base.run_VHEM()"
   ]
  },
  {
   "cell_type": "markdown",
   "metadata": {
    "colab_type": "text",
    "id": "zG7quS-dO4Hl"
   },
   "source": [
    "*Below is the probability that the ith HMM in the base model belongs in the jth HMM in the reduced model.*"
   ]
  },
  {
   "cell_type": "code",
   "execution_count": 0,
   "metadata": {
    "colab": {
     "base_uri": "https://localhost:8080/",
     "height": 85
    },
    "colab_type": "code",
    "id": "BZPitI2OzuEK",
    "outputId": "038d9b08-d70d-4c50-95aa-6a6ad18f9625"
   },
   "outputs": [
    {
     "data": {
      "text/plain": [
       "[[1.0, 6.680920141381742e-42],\n",
       " [1.0, 3.7896556798572665e-45],\n",
       " [4.1947185134864535e-61, 1.0],\n",
       " [3.815572876517371e-60, 1.0]]"
      ]
     },
     "execution_count": 162,
     "metadata": {
      "tags": []
     },
     "output_type": "execute_result"
    }
   ],
   "source": [
    "zs1"
   ]
  },
  {
   "cell_type": "markdown",
   "metadata": {
    "colab_type": "text",
    "id": "OH-U_lRMPGb2"
   },
   "source": [
    "*Below is what our reduced model distributions a*"
   ]
  },
  {
   "cell_type": "code",
   "execution_count": 0,
   "metadata": {
    "colab": {
     "base_uri": "https://localhost:8080/",
     "height": 265
    },
    "colab_type": "code",
    "id": "7lVqivXD4Lgr",
    "outputId": "5df2dacf-9b52-471e-c4bc-cc8e06e7972a"
   },
   "outputs": [
    {
     "data": {
      "image/png": "[encoded data removed]",
      "text/plain": [
       "<Figure size 432x288 with 1 Axes>"
      ]
     },
     "metadata": {
      "tags": []
     },
     "output_type": "display_data"
    }
   ],
   "source": [
    "for hmm in reduced1.hmms:\n",
    "  base = hmml.GMMHMM(n_components = 3)\n",
    "  base.startprob_ = hmm.pi \n",
    "  base.transmat_ = hmm.transitions\n",
    "  base.means_ = np.array([gmm.means for gmm in hmm.gmms]).reshape(-1, 1, 1)\n",
    "  base.covars_ = np.array([gmm.sigma for gmm in hmm.gmms]).reshape(-1, 1, 1)\n",
    "  base.weights_ = np.array([gmm.components for gmm in hmm.gmms])\n",
    "  plt.hist(base.sample(1000)[0], bins=50)\n",
    "plt.show()"
   ]
  },
  {
   "cell_type": "markdown",
   "metadata": {
    "colab_type": "text",
    "id": "6iv1cnEicHKQ"
   },
   "source": [
    "Here we can also see correctness of the EM algorithm by observing a monotonically increasing value of $\\mathcal{L}_{H3M}$, the variational lower bound, over iterations of the hierarchical EM algorithm. However, this clustering seems to be very messy when visualized: the distributions do not separate perfectly into the two initial distributions we started with, but rather spread out over both."
   ]
  },
  {
   "cell_type": "code",
   "execution_count": 0,
   "metadata": {
    "colab": {
     "base_uri": "https://localhost:8080/",
     "height": 283
    },
    "colab_type": "code",
    "id": "olDpDJQUcXsy",
    "outputId": "4716d343-1705-40de-ce09-2d1da94be1e0"
   },
   "outputs": [
    {
     "data": {
      "image/png": "[encoded data removed]",
      "text/plain": [
       "<Figure size 432x288 with 1 Axes>"
      ]
     },
     "metadata": {
      "tags": []
     },
     "output_type": "display_data"
    }
   ],
   "source": [
    "plt.plot(objective_list1)\n",
    "plt.xlabel(\"iterations\")\n",
    "plt.show()"
   ]
  },
  {
   "cell_type": "markdown",
   "metadata": {
    "colab_type": "text",
    "id": "n7puSrtD6Kbw"
   },
   "source": [
    "With two more similar HMMs, we see non-optimal clustering results, as intuitively expected: since the HMMs essentially fall in the same cluster initially, the resulting distributions of the clusters from VHEM also are indistinguishable, and the probabilities $z_{i, j}$ of the $i$th HMM of the base H3M corresponding to the $j$th HMM of the base H3M are not physically meaningful."
   ]
  },
  {
   "cell_type": "code",
   "execution_count": 0,
   "metadata": {
    "colab": {
     "base_uri": "https://localhost:8080/",
     "height": 265
    },
    "colab_type": "code",
    "id": "Wl2nfUoE21s_",
    "outputId": "c1cefe0b-95a0-4139-b2bf-cf5a03e42180"
   },
   "outputs": [
    {
     "data": {
      "image/png": "[encoded data removed]",
      "text/plain": [
       "<Figure size 432x288 with 1 Axes>"
      ]
     },
     "metadata": {
      "tags": []
     },
     "output_type": "display_data"
    }
   ],
   "source": [
    "for hmm in two_similar_hmms():\n",
    "  plt.hist(hmm.sample(1000)[0], bins=50)\n",
    "plt.show()"
   ]
  },
  {
   "cell_type": "code",
   "execution_count": 0,
   "metadata": {
    "colab": {
     "base_uri": "https://localhost:8080/",
     "height": 272
    },
    "colab_type": "code",
    "id": "4qyX11d5bBys",
    "outputId": "1dd923f0-fbc9-4b74-e6de-0c7a9d5332cf"
   },
   "outputs": [
    {
     "name": "stdout",
     "output_type": "stream",
     "text": [
      "diff:  -1\n",
      "OBJ -84.84556150063727\n",
      "new diff 84.84556150063727\n",
      "diff:  84.84556150063727\n",
      "OBJ -83.25807734957692\n",
      "new diff 1.5874841510603517\n",
      "diff:  1.5874841510603517\n",
      "OBJ -75.30152470864286\n",
      "new diff 7.9565526409340634\n",
      "diff:  7.9565526409340634\n",
      "OBJ -74.70410932162723\n",
      "new diff 0.59741538701563\n",
      "diff:  0.59741538701563\n",
      "OBJ -74.70002920282974\n",
      "new diff 0.004080118797489263\n"
     ]
    }
   ],
   "source": [
    "initial_h3m_two_base_2, initial_h3m_two_base_2_a = generate_synthetic(two_similar_hmms(), T=10)\n",
    "reduced_h3m_two_base_2, _ = generate_synthetic(two_reduced_hmms(), T=10, K=1)\n",
    "\n",
    "two_base_2 = VHEM(initial_h3m_two_base_2, reduced_h3m_two_base_2, N=10, tau=10, states=[0,1,2])\n",
    "objective_list2, zs2, reduced2 = two_base_2.run_VHEM()"
   ]
  },
  {
   "cell_type": "code",
   "execution_count": 0,
   "metadata": {
    "colab": {
     "base_uri": "https://localhost:8080/",
     "height": 85
    },
    "colab_type": "code",
    "id": "QSPQi9VE9G6u",
    "outputId": "d457f5c5-fae1-43b2-a7a2-8a0332a31ac6"
   },
   "outputs": [
    {
     "data": {
      "text/plain": [
       "[[1.5982915111746175e-196, 1.0],\n",
       " [8.087153844010347e-195, 1.0],\n",
       " [3.6708695927797515e-207, 1.0],\n",
       " [3.700911600517584e-202, 1.0]]"
      ]
     },
     "execution_count": 170,
     "metadata": {
      "tags": []
     },
     "output_type": "execute_result"
    }
   ],
   "source": [
    "zs2"
   ]
  },
  {
   "cell_type": "code",
   "execution_count": 0,
   "metadata": {
    "colab": {
     "base_uri": "https://localhost:8080/",
     "height": 268
    },
    "colab_type": "code",
    "id": "-nBiDhBp9MEY",
    "outputId": "88ef90f9-d5ba-445a-ab94-cb974b000c47"
   },
   "outputs": [
    {
     "data": {
      "image/png": "[encoded data removed]",
      "text/plain": [
       "<Figure size 432x288 with 1 Axes>"
      ]
     },
     "metadata": {
      "tags": []
     },
     "output_type": "display_data"
    }
   ],
   "source": [
    "for hmm in reduced2.hmms:\n",
    "  base = hmml.GMMHMM(n_components = 3)\n",
    "  base.startprob_ = hmm.pi \n",
    "  base.transmat_ = hmm.transitions\n",
    "  base.means_ = np.array([gmm.means for gmm in hmm.gmms]).reshape(-1, 1, 1)\n",
    "  base.covars_ = np.array([gmm.sigma for gmm in hmm.gmms]).reshape(-1, 1, 1)\n",
    "  base.weights_ = np.array([gmm.components for gmm in hmm.gmms])\n",
    "  plt.hist(base.sample(1000)[0], bins=50)\n",
    "plt.show()"
   ]
  },
  {
   "cell_type": "markdown",
   "metadata": {
    "colab_type": "text",
    "id": "oLdR6X4l6or0"
   },
   "source": [
    "Finally, we take a toy example from Coviello with non-trivial transition matrices. We start with four initial HMMs, construct two from each reduced HMM, and then try to get back the original four. The initial four HMMs have the same parameters for everything except the means of the three Gaussian components of the emission GMMs:\n",
    "\n",
    "$$\\pi = \\begin{bmatrix}1/3 \\\\ 1/3 \\\\ 1/3\\end{bmatrix}, A = \\begin{bmatrix}0.8 & 0.1 & 0.1 \\\\ 0.2 & 0.8 & 0 \\\\ 0 & 0.2 & 0.8\\end{bmatrix}, \\sigma_\\rho = 0.5\\forall\\rho$$\n",
    "\n",
    "$$\\mu_1 = \\begin{bmatrix}1 \\\\ 2 \\\\ 3\\end{bmatrix}, \\mu_2 = \\begin{bmatrix}3 \\\\ 2 \\\\ 1\\end{bmatrix}, \\mu_3 = \\begin{bmatrix}1 \\\\ 2 \\\\ 2\\end{bmatrix}, \\mu_4 = \\begin{bmatrix}1 \\\\ 3 \\\\ 3\\end{bmatrix}$$\n",
    "\n",
    "We see that the relative proximity in underlying distribution causes clustering to not perform terribly well in this example."
   ]
  },
  {
   "cell_type": "code",
   "execution_count": 0,
   "metadata": {
    "colab": {
     "base_uri": "https://localhost:8080/",
     "height": 170
    },
    "colab_type": "code",
    "id": "O7ULBpFQbNQ7",
    "outputId": "6e3fbc8d-4343-47fa-d130-c0c6357af615"
   },
   "outputs": [
    {
     "name": "stdout",
     "output_type": "stream",
     "text": [
      "diff:  -1\n",
      "OBJ -63.96894244702689\n",
      "new diff 63.96894244702689\n",
      "diff:  63.96894244702689\n",
      "OBJ -63.912057978408164\n",
      "new diff 0.0568844686187262\n",
      "diff:  0.0568844686187262\n",
      "OBJ -63.914089626103085\n",
      "new diff 0.00203164769492048\n"
     ]
    }
   ],
   "source": [
    "initial_h3m_four_base, initial_h3m_four_base_2 = generate_synthetic(coviello_hmms(), T=20)\n",
    "reduced_h3m_four_base, _ = generate_synthetic(coviello_hmms(), T=20, K=1)\n",
    "\n",
    "four_base = VHEM(initial_h3m_four_base, reduced_h3m_four_base, N=20, tau=10, states=[0,1,2])\n",
    "objective_list3, zs3, reduced3 = four_base.run_VHEM()"
   ]
  },
  {
   "cell_type": "code",
   "execution_count": 0,
   "metadata": {
    "colab": {
     "base_uri": "https://localhost:8080/",
     "height": 561
    },
    "colab_type": "code",
    "id": "LRFM_p9g-gpb",
    "outputId": "92357f6e-6ec2-4afb-d915-a1e57dd50e85"
   },
   "outputs": [
    {
     "data": {
      "text/plain": [
       "[[3.1740425896155716e-09,\n",
       "  1.676418025552179e-18,\n",
       "  0.9899102844817367,\n",
       "  0.010089712344220701],\n",
       " [1.0198229639917086e-10,\n",
       "  5.460351423212925e-21,\n",
       "  0.01684809787556233,\n",
       "  0.9831519020224554],\n",
       " [1.418225524395441e-16,\n",
       "  1.8381561111192197e-26,\n",
       "  0.494451951094843,\n",
       "  0.5055480489051568],\n",
       " [1.2515576723304436e-22,\n",
       "  3.35515192377031e-36,\n",
       "  7.556095240241646e-05,\n",
       "  0.9999244390475976],\n",
       " [8.465900899781849e-13,\n",
       "  1.1448912104364015e-22,\n",
       "  0.4434981970142848,\n",
       "  0.5565018029848686],\n",
       " [2.032466413670442e-18,\n",
       "  1.5481322711389719e-27,\n",
       "  0.2074608228352827,\n",
       "  0.7925391771647172],\n",
       " [7.340491519267853e-14,\n",
       "  4.479472105245196e-26,\n",
       "  0.16159636965998705,\n",
       "  0.8384036303399395],\n",
       " [1.0183136349214922e-20,\n",
       "  3.3944808077356565e-31,\n",
       "  9.293053919950418e-07,\n",
       "  0.999999070694608]]"
      ]
     },
     "execution_count": 190,
     "metadata": {
      "tags": []
     },
     "output_type": "execute_result"
    }
   ],
   "source": [
    "zs3 #All clustered to the same two HMM components of reduced H3M with similar distributions"
   ]
  },
  {
   "cell_type": "code",
   "execution_count": 0,
   "metadata": {
    "colab": {
     "base_uri": "https://localhost:8080/",
     "height": 265
    },
    "colab_type": "code",
    "id": "dAsEkV-ibUcw",
    "outputId": "bd120c1d-4588-46d2-cb5d-d646ab582dc0"
   },
   "outputs": [
    {
     "data": {
      "image/png": "[encoded data removed]",
      "text/plain": [
       "<Figure size 432x288 with 1 Axes>"
      ]
     },
     "metadata": {
      "tags": []
     },
     "output_type": "display_data"
    }
   ],
   "source": [
    "for hmm in reduced3.hmms:\n",
    "  base = hmml.GMMHMM(n_components = 3)\n",
    "  base.startprob_ = hmm.pi \n",
    "  base.transmat_ = hmm.transitions\n",
    "  base.means_ = np.array([gmm.means for gmm in hmm.gmms]).reshape(-1, 1, 1)\n",
    "  base.covars_ = np.array([gmm.sigma for gmm in hmm.gmms]).reshape(-1, 1, 1)\n",
    "  base.weights_ = np.array([gmm.components for gmm in hmm.gmms])\n",
    "  plt.hist(base.sample(1000)[0], bins=50, alpha=0.5)\n",
    "plt.show()"
   ]
  },
  {
   "cell_type": "code",
   "execution_count": 0,
   "metadata": {
    "colab": {
     "base_uri": "https://localhost:8080/",
     "height": 221
    },
    "colab_type": "code",
    "id": "HWgPjzdRMXMc",
    "outputId": "78ed3667-e6ea-4721-f2c1-ce6092c18102"
   },
   "outputs": [
    {
     "data": {
      "text/plain": [
       "array([[5.03383066e-01, 8.87145023e-10, 4.96616933e-01, 5.71050403e-01,\n",
       "        1.30791104e-01, 2.98158493e-01, 1.58195227e-01, 7.40215222e-01,\n",
       "        1.01589551e-01, 3.13451972e-01, 1.23470569e-01, 5.63077459e-01,\n",
       "        3.87030570e+00, 8.00330683e+00, 3.60510077e+00, 6.38850611e+00,\n",
       "        7.52357223e+00, 5.72025198e+00, 1.00000000e+00, 1.00000000e+00,\n",
       "        1.00000000e+00],\n",
       "       [4.98834537e-01, 8.93005698e-04, 5.00272458e-01, 4.41046255e-01,\n",
       "        3.26726891e-01, 2.32226853e-01, 3.30273851e-01, 3.82980607e-01,\n",
       "        2.86745542e-01, 3.59304758e-01, 1.95113403e-01, 4.45581840e-01,\n",
       "        1.22565463e+01, 1.25271753e+01, 1.24281796e+01, 5.16700095e+00,\n",
       "        5.39992045e+00, 4.78445521e+00, 1.00000000e+00, 1.00000000e+00,\n",
       "        1.00000000e+00]])"
      ]
     },
     "execution_count": 197,
     "metadata": {
      "tags": []
     },
     "output_type": "execute_result"
    }
   ],
   "source": [
    "import sklearn\n",
    "\n",
    "lst, _ = generate_synthetic(two_different_hmms())\n",
    "feats = []\n",
    "for model in lst.hmms:\n",
    "    feats.append(list(np.concatenate([model.pi, model.transitions.reshape(-1), np.concatenate([m.means for m in model.gmms]), np.concatenate([m.sigma for m in model.gmms]), np.concatenate([m.components for m in model.gmms])])))\n",
    "clusterer = sklearn.cluster.KMeans(n_clusters = 2)\n",
    "clusterer.fit(feats)\n",
    "clusterer.cluster_centers_"
   ]
  },
  {
   "cell_type": "code",
   "execution_count": 0,
   "metadata": {
    "colab": {
     "base_uri": "https://localhost:8080/",
     "height": 265
    },
    "colab_type": "code",
    "id": "MzwF765rEQcO",
    "outputId": "db19db77-d947-4ca9-99f2-9313cde7044a"
   },
   "outputs": [
    {
     "data": {
      "image/png": "[encoded data removed]",
      "text/plain": [
       "<Figure size 432x288 with 1 Axes>"
      ]
     },
     "metadata": {
      "tags": []
     },
     "output_type": "display_data"
    }
   ],
   "source": [
    "for data in clusterer.cluster_centers_:\n",
    "  base = hmml.GMMHMM(n_components = 3)\n",
    "  base.startprob_ = data[:3]\n",
    "  base.transmat_ = data[3:12].reshape(3, 3)\n",
    "  base.means_ = data[12:15].reshape(-1, 1, 1)\n",
    "  base.covars_ = data[15:18].reshape(-1, 1, 1)\n",
    "  base.weights_ = data[18:].reshape(3, 1)\n",
    "  plt.hist(base.sample(1000)[0], bins=50)\n",
    "plt.show()"
   ]
  },
  {
   "cell_type": "code",
   "execution_count": 0,
   "metadata": {
    "colab": {
     "base_uri": "https://localhost:8080/",
     "height": 265
    },
    "colab_type": "code",
    "id": "fEwCHSTdFN8d",
    "outputId": "621a8ba6-cc50-49e0-f13c-774de5389cc9"
   },
   "outputs": [
    {
     "data": {
      "image/png": "[encoded data removed]",
      "text/plain": [
       "<Figure size 432x288 with 1 Axes>"
      ]
     },
     "metadata": {
      "tags": []
     },
     "output_type": "display_data"
    }
   ],
   "source": [
    "lst, _ = generate_synthetic(two_similar_hmms())\n",
    "feats = []\n",
    "for model in lst.hmms:\n",
    "    feats.append(list(np.concatenate([model.pi, model.transitions.reshape(-1), np.concatenate([m.means for m in model.gmms]), np.concatenate([m.sigma for m in model.gmms]), np.concatenate([m.components for m in model.gmms])])))\n",
    "clusterer2 = sklearn.cluster.KMeans(n_clusters = 2)\n",
    "clusterer2.fit(feats)\n",
    "for data in clusterer2.cluster_centers_:\n",
    "  base = hmml.GMMHMM(n_components = 3)\n",
    "  base.startprob_ = data[:3]\n",
    "  base.transmat_ = data[3:12].reshape(3, 3)\n",
    "  base.means_ = data[12:15].reshape(-1, 1, 1)\n",
    "  base.covars_ = data[15:18].reshape(-1, 1, 1)\n",
    "  base.weights_ = data[18:].reshape(3, 1)\n",
    "  plt.hist(base.sample(1000)[0], bins=50)\n",
    "plt.show()"
   ]
  },
  {
   "cell_type": "code",
   "execution_count": 0,
   "metadata": {
    "colab": {
     "base_uri": "https://localhost:8080/",
     "height": 265
    },
    "colab_type": "code",
    "id": "ZxIViALQE-6y",
    "outputId": "0e47cc3b-c7c6-4198-c7a5-776c489c1e33"
   },
   "outputs": [
    {
     "data": {
      "image/png": "[encoded data removed]",
      "text/plain": [
       "<Figure size 432x288 with 1 Axes>"
      ]
     },
     "metadata": {
      "tags": []
     },
     "output_type": "display_data"
    }
   ],
   "source": [
    "lst, _ = generate_synthetic(coviello_hmms())\n",
    "feats = []\n",
    "for model in lst.hmms:\n",
    "    feats.append(list(np.concatenate([model.pi, model.transitions.reshape(-1), np.concatenate([m.means for m in model.gmms]), np.concatenate([m.sigma for m in model.gmms]), np.concatenate([m.components for m in model.gmms])])))\n",
    "clusterer3 = sklearn.cluster.KMeans(n_clusters = 4)\n",
    "clusterer3.fit(feats)\n",
    "clusterer3.cluster_centers_\n",
    "\n",
    "for data in clusterer3.cluster_centers_:\n",
    "  base = hmml.GMMHMM(n_components = 3)\n",
    "  base.startprob_ = data[:3]\n",
    "  base.transmat_ = data[3:12].reshape(3, 3)\n",
    "  base.means_ = data[12:15].reshape(-1, 1, 1)\n",
    "  base.covars_ = data[15:18].reshape(-1, 1, 1)\n",
    "  base.weights_ = data[18:].reshape(3, 1)\n",
    "  plt.hist(base.sample(1000)[0], bins=50, alpha=0.5)\n",
    "plt.show()"
   ]
  },
  {
   "cell_type": "markdown",
   "metadata": {
    "colab_type": "text",
    "id": "m5BXZQTqFlYY"
   },
   "source": [
    "For these simple toy examples, we see remarkably similar performance between naive K-means clustering and our more involved algorithm (we do improve a bit in the edge case where we start with two similar HMMs, where our clusters end up having slightly tighter distributions). It is likely that the supposed inability to cluster based on parameters only comes into play in situations where the parameter space is of high dimensionality. Thus, the paper's claim is likely true only for more complex data which (1) exploit the flexibility of the hierarchical model well (i.e., use more Gaussian components) and (2)feature a prohibitively large HMM parameter space; in these cases, this algorithm may be practical and useful (in addition, it should be noted that this algorithm takes relatively short time; the paper reports optimized times of around 30 seconds for relatively large runs on complex motion-capture data, and we also found for our own examples that nearly all runs took less than 10 seconds). For instance, the paper ran experiments on clustering motion-capture data, classifying genre/instrumentation of music files, and classifying hand-writing using research-standard datasets like MOCAP, showing the algorithm's performance to better or at worst comparable to many similarly state-of-the-art HMM clustering algorithms,most notably the spectral clustering algorithm PPK-SC (the Jebara et al., 2007 paper referenced earlier). An exception is an \"EM-H3M\" algorithm that outperforms VHEM in classification accuracy on music tagging, but this algorithm runs a full 6 times faster, so there exists a tradeoff between time and accuracy in this case.\n",
    "\n",
    "\n",
    "While reading the paper led us to conclude that the experimental evidence was strong, with sufficient evidence of improved performance on datasets of varied complexity (including the above toy example), from our data it may be possible that some of the paper's conclusions are due to overfitting, just extrapolating from the algorithm's inability to outperform sklearn on simple tests. More involved checks on their experiments on slightly larger tests and motion-capture data would be necessary to fully determine the practicality of the VHEM algorithm. Future steps to be taken here may include learning the number of optimal components of the reduced H3M (i.e., seeing what the optimal number of clusters is through observing final $\\mathcal{L}_{H3M}$ values in each case), or learning the optimum number of Gaussian mixture model components in the reduced model (by mixing several different types of GMM-HMMs in the same H3M)."
   ]
  },
  {
   "cell_type": "code",
   "execution_count": 0,
   "metadata": {
    "colab": {},
    "colab_type": "code",
    "id": "94XII5HGJfRu"
   },
   "outputs": [],
   "source": []
  }
 ],
 "metadata": {
  "colab": {
   "collapsed_sections": [],
   "name": "VAE_HMM.ipynb",
   "provenance": []
  },
  "kernelspec": {
   "display_name": "Python 3",
   "language": "python",
   "name": "python3"
  },
  "language_info": {
   "codemirror_mode": {
    "name": "ipython",
    "version": 3
   },
   "file_extension": ".py",
   "mimetype": "text/x-python",
   "name": "python",
   "nbconvert_exporter": "python",
   "pygments_lexer": "ipython3",
   "version": "3.6.8"
  }
 },
 "nbformat": 4,
 "nbformat_minor": 1
}
