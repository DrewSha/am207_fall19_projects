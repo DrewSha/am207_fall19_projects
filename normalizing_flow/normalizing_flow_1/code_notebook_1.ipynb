{
  "nbformat": 4,
  "nbformat_minor": 0,
  "metadata": {
    "colab": {
      "name": "AM207-Project-Notebook-1.ipynb",
      "provenance": [],
      "collapsed_sections": []
    },
    "kernelspec": {
      "name": "python3",
      "display_name": "Python 3"
    },
    "accelerator": "GPU"
  },
  "cells": [
    {
      "cell_type": "markdown",
      "metadata": {
        "id": "C5AKAflYm-RZ",
        "colab_type": "text"
      },
      "source": [
        "# Normalizing flows to approximate complicated distributions\n",
        "\n",
        "Approximating a complicated posterior distribution with a gaussian generally makes computation tractable but leads to an underestimation of the variance and may simply be completely off when the true distribution is far from being a gaussian (e.g. multimodal, skewed, ...).\n"
      ]
    },
    {
      "cell_type": "markdown",
      "metadata": {
        "id": "OQBBDXNnpdZA",
        "colab_type": "text"
      },
      "source": [
        "### An example of multimodal distribution\n",
        "Here, we will reproduce the example of 6.1 in the paper to create a 2D multimodal distribution that wouldn't be well approximated by a gaussian."
      ]
    },
    {
      "cell_type": "code",
      "metadata": {
        "id": "fSv7hXrLWnqS",
        "colab_type": "code",
        "colab": {}
      },
      "source": [
        "import torch.nn as nn\n",
        "import torch\n",
        "\n",
        "device = torch.device('cuda' if torch.cuda.is_available() else 'cpu')"
      ],
      "execution_count": 0,
      "outputs": []
    },
    {
      "cell_type": "code",
      "metadata": {
        "id": "j5KHIXQ1y0rT",
        "colab_type": "code",
        "colab": {}
      },
      "source": [
        "import matplotlib.pyplot as plt\n",
        "import numpy as np\n",
        "\n",
        "def u1(z):\n",
        "    return 1/2 * ((np.linalg.norm(z, ord=2) - 2)/.4)**2 - np.log(np.exp(-1/2*((z[0] - 2)/.6)**2) + np.exp(-1/2*((z[0] + 2)/.6)**2))"
      ],
      "execution_count": 0,
      "outputs": []
    },
    {
      "cell_type": "code",
      "metadata": {
        "id": "eZTjsZDc6Hhp",
        "colab_type": "code",
        "colab": {}
      },
      "source": [
        "def batch_u1(z):\n",
        "    z0 = z.select(dim=1, index=0)\n",
        "    return 1/2 * ((torch.norm(z, p=2, dim=1) - 2)/.4)**2 - torch.log(torch.exp(-1/2*((z0 - 2)/.6)**2) + torch.exp(-1/2*((z0 + 2)/.6)**2))"
      ],
      "execution_count": 0,
      "outputs": []
    },
    {
      "cell_type": "code",
      "metadata": {
        "id": "nBanTa-T8Tuk",
        "colab_type": "code",
        "colab": {}
      },
      "source": [
        "x = np.random.normal(size=(10, 2))"
      ],
      "execution_count": 0,
      "outputs": []
    },
    {
      "cell_type": "code",
      "metadata": {
        "id": "rzJDNCEZ8aAg",
        "colab_type": "code",
        "outputId": "051df5e8-a090-4fd5-8fee-58dcc088083a",
        "colab": {
          "base_uri": "https://localhost:8080/",
          "height": 52
        }
      },
      "source": [
        "batch_u1(torch.tensor(x))"
      ],
      "execution_count": 0,
      "outputs": [
        {
          "output_type": "execute_result",
          "data": {
            "text/plain": [
              "tensor([ 5.0145,  2.9990,  2.9172,  1.8799,  2.4315, 12.9660,  1.0053, 10.7402,\n",
              "         2.0085,  6.7505], dtype=torch.float64)"
            ]
          },
          "metadata": {
            "tags": []
          },
          "execution_count": 52
        }
      ]
    },
    {
      "cell_type": "code",
      "metadata": {
        "id": "mLBg3MeY8jsx",
        "colab_type": "code",
        "outputId": "99c77b46-dfd7-4a65-949d-621dec8b3ea0",
        "colab": {
          "base_uri": "https://localhost:8080/",
          "height": 193
        }
      },
      "source": [
        "for e in x:\n",
        "    print(u1(e))"
      ],
      "execution_count": 0,
      "outputs": [
        {
          "output_type": "stream",
          "text": [
            "5.014495274832825\n",
            "2.9989930888637915\n",
            "2.9171756395805484\n",
            "1.8799138837818696\n",
            "2.4315166161179382\n",
            "12.966039876246278\n",
            "1.0053070548791263\n",
            "10.74024493990563\n",
            "2.0085424261591163\n",
            "6.750450851417078\n"
          ],
          "name": "stdout"
        }
      ]
    },
    {
      "cell_type": "code",
      "metadata": {
        "id": "3snpJjHPzTD6",
        "colab_type": "code",
        "outputId": "e8036932-295b-4a38-d213-e8e314dadfe1",
        "colab": {
          "base_uri": "https://localhost:8080/",
          "height": 70
        }
      },
      "source": [
        "%%time\n",
        "Z1 = np.linspace(-6, 6, 1000)\n",
        "Z2 = np.linspace(-6, 6, 1000)\n",
        "Z = []\n",
        "for z1 in Z1:\n",
        "    Z.append([])\n",
        "    for z2 in Z2:\n",
        "        Z[-1].append(np.exp(-u1([z2, z1])))\n",
        "Z = np.array(Z)\n",
        "print(Z.shape)"
      ],
      "execution_count": 0,
      "outputs": [
        {
          "output_type": "stream",
          "text": [
            "(1000, 1000)\n",
            "CPU times: user 14.9 s, sys: 107 ms, total: 15 s\n",
            "Wall time: 14.9 s\n"
          ],
          "name": "stdout"
        }
      ]
    },
    {
      "cell_type": "code",
      "metadata": {
        "id": "isNCK4ZE0Uu5",
        "colab_type": "code",
        "outputId": "48714f4a-2142-442a-97f5-54911722a49f",
        "colab": {
          "base_uri": "https://localhost:8080/",
          "height": 286
        }
      },
      "source": [
        "plt.contourf(Z1, Z2, Z, levels=200, cmap=\"plasma\")"
      ],
      "execution_count": 0,
      "outputs": [
        {
          "output_type": "execute_result",
          "data": {
            "text/plain": [
              "<matplotlib.contour.QuadContourSet at 0x7f6416cff5c0>"
            ]
          },
          "metadata": {
            "tags": []
          },
          "execution_count": 23
        },
        {
          "output_type": "display_data",
          "data": {
            "image/png": "[encoded data removed]",
            "text/plain": [
              "<Figure size 432x288 with 1 Axes>"
            ]
          },
          "metadata": {
            "tags": []
          }
        }
      ]
    },
    {
      "cell_type": "markdown",
      "metadata": {
        "id": "JtMX1WaWp1VO",
        "colab_type": "text"
      },
      "source": [
        "Due to the multimodality of this distribution, we cannot approximate it properly using a gaussian variable (or even a mixture of gaussians which wouldn't be able to capture these moon shapes)."
      ]
    },
    {
      "cell_type": "markdown",
      "metadata": {
        "id": "LjsJXm5cqKHy",
        "colab_type": "text"
      },
      "source": [
        "### Approximation using planar flows\n",
        "We will use planar flows to show how this distribution can be pretty well approximated using normalizing flows. We modify the algorithm a bit for this task as we only need a flow without the inference and generative networks. In this case, we try to minimize the KL divergence between the distribution created by the flow and the true distribution defined above. With the notations of the paper using Planar Flows, this corresponds to:\n",
        "$$\n",
        "\\begin{align}\n",
        "KL[q_K(z)||p(z)] &= E_{z_K \\sim q_K(z)} [\\ln q_K(z_K) - \\ln p(z_K)] \\\\\n",
        "&= E_{z_0 \\sim q_0(z)} [\\ln q_0(z_0) - \\sum_k \\ln|1+u_k^T\\psi_k(z_{k-1})|  - (-U(f_1(f_2(..f_K(z_0)))) - \\ln(Z))] \\\\\n",
        "&= E_{z_0 \\sim q_0(z)} [\\ln q_0(z_0) - \\sum_k \\ln|1+u_k^T\\psi_k(z_{k-1})| + U(f_1(f_2(..f_K(z_0)))) + \\ln(Z)]\\\\\n",
        "&= E_{z_0 \\sim q_0(z)} [U(f_1(f_2(..f_K(z_0))))) - \\sum_k \\ln|1+u_k^T\\psi_k(z_{k-1})|] + cst\n",
        "\\end{align}\n",
        "$$\n",
        "\n",
        "where $cst$ doesn't depend on the parameters of the flow. The computation of this expectation is then done through Monte Carlo sampling where the number of Monte Carlo samples is the batch size. \n",
        "\n",
        "Let's note that we have also created a full implementation of the paper including an inference and a generative network that we provide in another notebook."
      ]
    },
    {
      "cell_type": "code",
      "metadata": {
        "id": "H3vhKUOqkl_w",
        "colab_type": "code",
        "colab": {}
      },
      "source": [
        "def tensorlist_to_tensor(l):\n",
        "    return torch.cat([t.unsqueeze(0) for t in l])"
      ],
      "execution_count": 0,
      "outputs": []
    },
    {
      "cell_type": "code",
      "metadata": {
        "id": "AQ3DyY74WwEA",
        "colab_type": "code",
        "colab": {}
      },
      "source": [
        "class Flow(nn.Module):\n",
        "    def __init__(self, K, D):\n",
        "        super().__init__()\n",
        "        self.K = K\n",
        "        self.linear_layers = nn.ModuleList([nn.Linear(D, 1) for _ in range(K)])\n",
        "        self.u_vectors = nn.Parameter(data=torch.randn(K, D))\n",
        "\n",
        "    \n",
        "    def forward(self, z):\n",
        "        all_zs = [z]\n",
        "        all_u_times_psis = []\n",
        "        for linear_layer, u_vector in zip(self.linear_layers,\n",
        "                                          self.u_vectors):\n",
        "            z_prev = all_zs[-1]\n",
        "            linear_layer_output = linear_layer(z_prev)\n",
        "            tanh_output = torch.tanh(linear_layer_output)\n",
        "            all_zs.append((z_prev + u_vector * tanh_output))\n",
        "            all_u_times_psis.append(torch.sum(u_vector * (1 - tanh_output**2) * linear_layer.weight.flatten(), dim=1))\n",
        "        return all_zs, tensorlist_to_tensor(all_u_times_psis).permute(1, 0)"
      ],
      "execution_count": 0,
      "outputs": []
    },
    {
      "cell_type": "code",
      "metadata": {
        "id": "gcOLV4-l3jAw",
        "colab_type": "code",
        "colab": {}
      },
      "source": [
        "from torch.distributions.multivariate_normal import MultivariateNormal\n",
        "\n",
        "class CompleteFlowNet(nn.Module):\n",
        "    def __init__(self, D, K, init_mu=None, init_comat=None):\n",
        "        super().__init__()\n",
        "        if init_mu is None:\n",
        "            init_mu = torch.zeros(D).cuda()\n",
        "        if init_comat is None:\n",
        "            init_comat = torch.eye(D).cuda()\n",
        "        self.init_dist = MultivariateNormal(loc=init_mu,\n",
        "                                            covariance_matrix=init_comat)\n",
        "        self.flow_net = Flow(K, D)\n",
        "    \n",
        "    def _sample(self, batch_size):\n",
        "        z0 = self.init_dist.sample([batch_size])\n",
        "        all_zs, all_u_times_psis = self.flow_net(z0)\n",
        "        z_K = all_zs[-1]\n",
        "        return z_K, z0, all_u_times_psis\n",
        "\n",
        "    def forward(self, batch_size):\n",
        "        z_K, z0, all_u_times_psis = self._sample(batch_size)\n",
        "\n",
        "        log_flow = torch.mean(torch.sum(torch.log(1e-7 + torch.abs(1 + all_u_times_psis)), dim=1))\n",
        "        energy = torch.mean(batch_u1(z_K))\n",
        "\n",
        "        loss = -log_flow + energy\n",
        "        return loss, log_flow, energy"
      ],
      "execution_count": 0,
      "outputs": []
    },
    {
      "cell_type": "markdown",
      "metadata": {
        "id": "_G7qqnV5vRCf",
        "colab_type": "text"
      },
      "source": [
        "Training this flow for 100,000 epochs using the following code gives us the results below. We trained it in two times to check intermediary results, so the following print statements corresponds to the last 50,000 epochs of the training."
      ]
    },
    {
      "cell_type": "code",
      "metadata": {
        "id": "l6llTtUOb1XG",
        "colab_type": "code",
        "outputId": "f113cfbe-4850-48a3-cd36-58bddea848ec",
        "colab": {
          "base_uri": "https://localhost:8080/",
          "height": 932
        }
      },
      "source": [
        "import time\n",
        "\n",
        "complete_flow_net = CompleteFlowNet(K=32, D=2)\n",
        "complete_flow_net.to(device);\n",
        "optimizer = torch.optim.Adam(complete_flow_net.parameters(), lr=1e-4)\n",
        "\n",
        "num_epochs = 50000\n",
        "batch_size = 1000\n",
        "t0 = time.time()\n",
        "for epoch in range(num_epochs):\n",
        "    optimizer.zero_grad()\n",
        "    loss, log_flow, energy = complete_flow_net(batch_size)\n",
        "    loss.backward()\n",
        "    optimizer.step()\n",
        "    t = time.time() - t0\n",
        "    if epoch % 1000 == 0 or epoch == num_epochs - 1 or epoch == 200:\n",
        "        print(f'Epoch {epoch+1} Loss {loss:.3f} Log_flow {log_flow:.3f} Energy {energy:.3f} ({t:.3f}s elapsed since beginning)')"
      ],
      "execution_count": 0,
      "outputs": [
        {
          "output_type": "stream",
          "text": [
            "Epoch 1 Loss 0.568 Log_flow 0.260 Energy 0.828 (0.042s elapsed since beginning)\n",
            "Epoch 201 Loss 0.498 Log_flow 0.263 Energy 0.761 (6.408s elapsed since beginning)\n",
            "Epoch 1001 Loss 0.577 Log_flow 0.265 Energy 0.842 (32.370s elapsed since beginning)\n",
            "Epoch 2001 Loss 0.535 Log_flow 0.255 Energy 0.790 (64.169s elapsed since beginning)\n",
            "Epoch 3001 Loss 0.593 Log_flow 0.231 Energy 0.824 (96.456s elapsed since beginning)\n",
            "Epoch 4001 Loss 0.557 Log_flow 0.244 Energy 0.801 (127.719s elapsed since beginning)\n",
            "Epoch 5001 Loss 0.663 Log_flow 0.175 Energy 0.838 (160.613s elapsed since beginning)\n",
            "Epoch 6001 Loss 0.591 Log_flow 0.247 Energy 0.839 (193.259s elapsed since beginning)\n",
            "Epoch 7001 Loss 0.541 Log_flow 0.284 Energy 0.825 (225.900s elapsed since beginning)\n",
            "Epoch 8001 Loss 0.553 Log_flow 0.270 Energy 0.824 (258.129s elapsed since beginning)\n",
            "Epoch 9001 Loss 0.561 Log_flow 0.230 Energy 0.791 (290.346s elapsed since beginning)\n",
            "Epoch 10001 Loss 0.533 Log_flow 0.301 Energy 0.833 (323.149s elapsed since beginning)\n",
            "Epoch 11001 Loss 0.555 Log_flow 0.275 Energy 0.829 (355.482s elapsed since beginning)\n",
            "Epoch 12001 Loss 0.609 Log_flow 0.262 Energy 0.871 (387.760s elapsed since beginning)\n",
            "Epoch 13001 Loss 0.560 Log_flow 0.257 Energy 0.818 (419.597s elapsed since beginning)\n",
            "Epoch 14001 Loss 0.524 Log_flow 0.254 Energy 0.778 (451.976s elapsed since beginning)\n",
            "Epoch 15001 Loss 0.574 Log_flow 0.275 Energy 0.849 (484.055s elapsed since beginning)\n",
            "Epoch 16001 Loss 0.461 Log_flow 0.365 Energy 0.826 (516.119s elapsed since beginning)\n",
            "Epoch 17001 Loss 0.509 Log_flow 0.311 Energy 0.820 (547.991s elapsed since beginning)\n",
            "Epoch 18001 Loss 0.436 Log_flow 0.358 Energy 0.794 (579.964s elapsed since beginning)\n",
            "Epoch 19001 Loss 0.509 Log_flow 0.229 Energy 0.738 (611.585s elapsed since beginning)\n",
            "Epoch 20001 Loss 0.547 Log_flow 0.298 Energy 0.844 (643.785s elapsed since beginning)\n",
            "Epoch 21001 Loss 0.603 Log_flow 0.233 Energy 0.836 (676.151s elapsed since beginning)\n",
            "Epoch 22001 Loss 0.476 Log_flow 0.313 Energy 0.789 (708.755s elapsed since beginning)\n",
            "Epoch 23001 Loss 0.523 Log_flow 0.285 Energy 0.808 (740.273s elapsed since beginning)\n",
            "Epoch 24001 Loss 0.430 Log_flow 0.347 Energy 0.776 (772.144s elapsed since beginning)\n",
            "Epoch 25001 Loss 0.607 Log_flow 0.226 Energy 0.833 (804.455s elapsed since beginning)\n",
            "Epoch 26001 Loss 0.534 Log_flow 0.296 Energy 0.831 (836.160s elapsed since beginning)\n",
            "Epoch 27001 Loss 0.469 Log_flow 0.328 Energy 0.797 (868.375s elapsed since beginning)\n",
            "Epoch 28001 Loss 0.486 Log_flow 0.305 Energy 0.792 (900.546s elapsed since beginning)\n",
            "Epoch 29001 Loss 0.557 Log_flow 0.227 Energy 0.784 (932.476s elapsed since beginning)\n",
            "Epoch 30001 Loss 0.436 Log_flow 0.354 Energy 0.790 (965.179s elapsed since beginning)\n",
            "Epoch 31001 Loss 0.526 Log_flow 0.367 Energy 0.893 (997.683s elapsed since beginning)\n",
            "Epoch 32001 Loss 0.458 Log_flow 0.360 Energy 0.818 (1029.792s elapsed since beginning)\n",
            "Epoch 33001 Loss 0.505 Log_flow 0.320 Energy 0.825 (1061.660s elapsed since beginning)\n",
            "Epoch 34001 Loss 0.485 Log_flow 0.319 Energy 0.805 (1093.901s elapsed since beginning)\n",
            "Epoch 35001 Loss 0.459 Log_flow 0.353 Energy 0.812 (1125.496s elapsed since beginning)\n",
            "Epoch 36001 Loss 0.456 Log_flow 0.339 Energy 0.794 (1158.214s elapsed since beginning)\n",
            "Epoch 37001 Loss 0.555 Log_flow 0.293 Energy 0.847 (1189.736s elapsed since beginning)\n",
            "Epoch 38001 Loss 0.533 Log_flow 0.260 Energy 0.793 (1221.771s elapsed since beginning)\n",
            "Epoch 39001 Loss 0.429 Log_flow 0.346 Energy 0.775 (1253.655s elapsed since beginning)\n",
            "Epoch 40001 Loss 0.407 Log_flow 0.382 Energy 0.790 (1286.001s elapsed since beginning)\n",
            "Epoch 41001 Loss 0.502 Log_flow 0.319 Energy 0.821 (1318.270s elapsed since beginning)\n",
            "Epoch 42001 Loss 0.427 Log_flow 0.318 Energy 0.745 (1350.579s elapsed since beginning)\n",
            "Epoch 43001 Loss 0.427 Log_flow 0.363 Energy 0.791 (1383.300s elapsed since beginning)\n",
            "Epoch 44001 Loss 0.429 Log_flow 0.377 Energy 0.805 (1415.975s elapsed since beginning)\n",
            "Epoch 45001 Loss 0.498 Log_flow 0.298 Energy 0.797 (1448.977s elapsed since beginning)\n",
            "Epoch 46001 Loss 0.407 Log_flow 0.413 Energy 0.820 (1482.326s elapsed since beginning)\n",
            "Epoch 47001 Loss 0.379 Log_flow 0.387 Energy 0.766 (1515.825s elapsed since beginning)\n",
            "Epoch 48001 Loss 0.489 Log_flow 0.317 Energy 0.807 (1549.358s elapsed since beginning)\n",
            "Epoch 49001 Loss 0.415 Log_flow 0.400 Energy 0.815 (1583.877s elapsed since beginning)\n",
            "Epoch 50000 Loss 0.519 Log_flow 0.294 Energy 0.813 (1616.964s elapsed since beginning)\n"
          ],
          "name": "stdout"
        }
      ]
    },
    {
      "cell_type": "markdown",
      "metadata": {
        "id": "PCtojEi0wDsK",
        "colab_type": "text"
      },
      "source": [
        "We can then sample from the approximating distribution and run a Kernel Density Estimation to plot the results properly."
      ]
    },
    {
      "cell_type": "code",
      "metadata": {
        "id": "2s4R1bsYBOcM",
        "colab_type": "code",
        "colab": {}
      },
      "source": [
        "samples, _, _ = complete_flow_net._sample(10000)\n",
        "samples = samples.cpu().detach().numpy()"
      ],
      "execution_count": 0,
      "outputs": []
    },
    {
      "cell_type": "code",
      "metadata": {
        "id": "UdL604AkCvRQ",
        "colab_type": "code",
        "outputId": "3c87cb97-b14d-4598-aa05-59e7a75054e7",
        "colab": {
          "base_uri": "https://localhost:8080/",
          "height": 34
        }
      },
      "source": [
        "samples.shape"
      ],
      "execution_count": 0,
      "outputs": [
        {
          "output_type": "execute_result",
          "data": {
            "text/plain": [
              "(10000, 2)"
            ]
          },
          "metadata": {
            "tags": []
          },
          "execution_count": 159
        }
      ]
    },
    {
      "cell_type": "code",
      "metadata": {
        "id": "baMI6M2ICIiZ",
        "colab_type": "code",
        "outputId": "4babc376-3a13-41b9-dc7c-947eefef97c4",
        "colab": {
          "base_uri": "https://localhost:8080/",
          "height": 286
        }
      },
      "source": [
        "import scipy.stats as st\n",
        "\n",
        "x = samples[:, 0]\n",
        "y = samples[:, 1]\n",
        "xmin, xmax = -6, 6\n",
        "ymin, ymax = -6, 6\n",
        "\n",
        "# Peform the kernel density estimate\n",
        "xx, yy = np.mgrid[xmin:xmax:100j, ymin:ymax:100j]\n",
        "positions = np.vstack([xx.ravel(), yy.ravel()])\n",
        "values = np.vstack([x, y])\n",
        "kernel = st.gaussian_kde(values)\n",
        "f = np.reshape(kernel(positions).T, xx.shape)\n",
        "\n",
        "plt.contourf(xx, yy, f, cmap='plasma', levels=200)"
      ],
      "execution_count": 0,
      "outputs": [
        {
          "output_type": "execute_result",
          "data": {
            "text/plain": [
              "<matplotlib.contour.QuadContourSet at 0x7f638f014be0>"
            ]
          },
          "metadata": {
            "tags": []
          },
          "execution_count": 160
        },
        {
          "output_type": "display_data",
          "data": {
            "image/png": "[encoded data removed]",
            "text/plain": [
              "<Figure size 432x288 with 1 Axes>"
            ]
          },
          "metadata": {
            "tags": []
          }
        }
      ]
    },
    {
      "cell_type": "markdown",
      "metadata": {
        "id": "GwP2Gg7mwVjZ",
        "colab_type": "text"
      },
      "source": [
        "We can see that this is pretty close to the true distribution we are trying to approximate."
      ]
    },
    {
      "cell_type": "markdown",
      "metadata": {
        "id": "l3R9hcHK4nNQ",
        "colab_type": "text"
      },
      "source": [
        "### Fail case\n",
        "The training of these flows is actually not trivial and requires a lot of hyperparameter tuning. Having bad hyper parameters can lead to pretty bad results. Here, we explore what happens if our Flow is too shallow (having K=2). Again we trained for 100,000 epochs but the print statements are only for the 50,000 last ones as we trained the flow in two times."
      ]
    },
    {
      "cell_type": "code",
      "metadata": {
        "id": "MrRQwoKH4xa7",
        "colab_type": "code",
        "outputId": "3431b629-fc52-461b-9337-abddb39ad2ae",
        "colab": {
          "base_uri": "https://localhost:8080/",
          "height": 932
        }
      },
      "source": [
        "import time\n",
        "\n",
        "complete_flow_net = CompleteFlowNet(K=2, D=2)\n",
        "complete_flow_net.to(device);\n",
        "optimizer = torch.optim.Adam(complete_flow_net.parameters(), lr=1e-4)\n",
        "\n",
        "num_epochs = 50000\n",
        "batch_size = 1000\n",
        "t0 = time.time()\n",
        "for epoch in range(num_epochs):\n",
        "    optimizer.zero_grad()\n",
        "    loss, log_flow, energy = complete_flow_net(batch_size)\n",
        "    loss.backward()\n",
        "    optimizer.step()\n",
        "    t = time.time() - t0\n",
        "    if epoch % 1000 == 0 or epoch == num_epochs - 1 or epoch == 200:\n",
        "        print(f'Epoch {epoch+1} Loss {loss:.3f} Log_flow {log_flow:.3f} Energy {energy:.3f} ({t:.3f}s elapsed since beginning)')"
      ],
      "execution_count": 0,
      "outputs": [
        {
          "output_type": "stream",
          "text": [
            "Epoch 1 Loss 2.302 Log_flow 0.373 Energy 2.675 (0.008s elapsed since beginning)\n",
            "Epoch 201 Loss 2.434 Log_flow 0.382 Energy 2.816 (0.739s elapsed since beginning)\n",
            "Epoch 1001 Loss 2.447 Log_flow 0.391 Energy 2.838 (3.425s elapsed since beginning)\n",
            "Epoch 2001 Loss 2.269 Log_flow 0.400 Energy 2.669 (7.105s elapsed since beginning)\n",
            "Epoch 3001 Loss 2.372 Log_flow 0.388 Energy 2.761 (10.791s elapsed since beginning)\n",
            "Epoch 4001 Loss 2.289 Log_flow 0.363 Energy 2.651 (14.591s elapsed since beginning)\n",
            "Epoch 5001 Loss 2.325 Log_flow 0.411 Energy 2.736 (18.592s elapsed since beginning)\n",
            "Epoch 6001 Loss 2.280 Log_flow 0.425 Energy 2.705 (22.170s elapsed since beginning)\n",
            "Epoch 7001 Loss 2.348 Log_flow 0.333 Energy 2.681 (25.716s elapsed since beginning)\n",
            "Epoch 8001 Loss 2.301 Log_flow 0.392 Energy 2.694 (29.410s elapsed since beginning)\n",
            "Epoch 9001 Loss 2.313 Log_flow 0.423 Energy 2.736 (32.769s elapsed since beginning)\n",
            "Epoch 10001 Loss 2.230 Log_flow 0.397 Energy 2.627 (36.450s elapsed since beginning)\n",
            "Epoch 11001 Loss 2.430 Log_flow 0.428 Energy 2.859 (40.087s elapsed since beginning)\n",
            "Epoch 12001 Loss 2.272 Log_flow 0.395 Energy 2.666 (43.659s elapsed since beginning)\n",
            "Epoch 13001 Loss 2.271 Log_flow 0.435 Energy 2.706 (47.402s elapsed since beginning)\n",
            "Epoch 14001 Loss 2.193 Log_flow 0.420 Energy 2.614 (51.136s elapsed since beginning)\n",
            "Epoch 15001 Loss 2.289 Log_flow 0.431 Energy 2.720 (54.505s elapsed since beginning)\n",
            "Epoch 16001 Loss 2.255 Log_flow 0.381 Energy 2.636 (58.295s elapsed since beginning)\n",
            "Epoch 17001 Loss 2.314 Log_flow 0.440 Energy 2.754 (61.906s elapsed since beginning)\n",
            "Epoch 18001 Loss 2.404 Log_flow 0.402 Energy 2.806 (65.458s elapsed since beginning)\n",
            "Epoch 19001 Loss 2.263 Log_flow 0.438 Energy 2.701 (68.946s elapsed since beginning)\n",
            "Epoch 20001 Loss 2.244 Log_flow 0.430 Energy 2.674 (72.738s elapsed since beginning)\n",
            "Epoch 21001 Loss 2.209 Log_flow 0.414 Energy 2.622 (76.465s elapsed since beginning)\n",
            "Epoch 22001 Loss 2.201 Log_flow 0.385 Energy 2.586 (79.843s elapsed since beginning)\n",
            "Epoch 23001 Loss 2.204 Log_flow 0.432 Energy 2.637 (83.451s elapsed since beginning)\n",
            "Epoch 24001 Loss 2.424 Log_flow 0.458 Energy 2.882 (87.045s elapsed since beginning)\n",
            "Epoch 25001 Loss 2.382 Log_flow 0.386 Energy 2.767 (90.660s elapsed since beginning)\n",
            "Epoch 26001 Loss 2.155 Log_flow 0.384 Energy 2.540 (94.393s elapsed since beginning)\n",
            "Epoch 27001 Loss 2.334 Log_flow 0.467 Energy 2.801 (98.227s elapsed since beginning)\n",
            "Epoch 28001 Loss 2.385 Log_flow 0.493 Energy 2.878 (102.065s elapsed since beginning)\n",
            "Epoch 29001 Loss 2.245 Log_flow 0.398 Energy 2.643 (105.984s elapsed since beginning)\n",
            "Epoch 30001 Loss 2.189 Log_flow 0.439 Energy 2.628 (109.531s elapsed since beginning)\n",
            "Epoch 31001 Loss 2.162 Log_flow 0.384 Energy 2.545 (113.124s elapsed since beginning)\n",
            "Epoch 32001 Loss 2.170 Log_flow 0.402 Energy 2.572 (116.818s elapsed since beginning)\n",
            "Epoch 33001 Loss 2.427 Log_flow 0.407 Energy 2.834 (120.412s elapsed since beginning)\n",
            "Epoch 34001 Loss 2.311 Log_flow 0.419 Energy 2.730 (124.027s elapsed since beginning)\n",
            "Epoch 35001 Loss 2.119 Log_flow 0.438 Energy 2.557 (127.591s elapsed since beginning)\n",
            "Epoch 36001 Loss 2.296 Log_flow 0.485 Energy 2.781 (131.382s elapsed since beginning)\n",
            "Epoch 37001 Loss 2.188 Log_flow 0.380 Energy 2.568 (134.933s elapsed since beginning)\n",
            "Epoch 38001 Loss 2.321 Log_flow 0.469 Energy 2.790 (138.573s elapsed since beginning)\n",
            "Epoch 39001 Loss 2.281 Log_flow 0.493 Energy 2.774 (142.472s elapsed since beginning)\n",
            "Epoch 40001 Loss 2.276 Log_flow 0.451 Energy 2.727 (146.368s elapsed since beginning)\n",
            "Epoch 41001 Loss 2.527 Log_flow 0.435 Energy 2.961 (149.959s elapsed since beginning)\n",
            "Epoch 42001 Loss 2.175 Log_flow 0.450 Energy 2.625 (153.496s elapsed since beginning)\n",
            "Epoch 43001 Loss 2.238 Log_flow 0.405 Energy 2.642 (157.275s elapsed since beginning)\n",
            "Epoch 44001 Loss 2.084 Log_flow 0.399 Energy 2.483 (160.906s elapsed since beginning)\n",
            "Epoch 45001 Loss 2.408 Log_flow 0.404 Energy 2.812 (164.319s elapsed since beginning)\n",
            "Epoch 46001 Loss 2.215 Log_flow 0.455 Energy 2.670 (167.853s elapsed since beginning)\n",
            "Epoch 47001 Loss 2.148 Log_flow 0.449 Energy 2.598 (171.453s elapsed since beginning)\n",
            "Epoch 48001 Loss 2.171 Log_flow 0.426 Energy 2.598 (175.265s elapsed since beginning)\n",
            "Epoch 49001 Loss 2.334 Log_flow 0.491 Energy 2.824 (179.131s elapsed since beginning)\n",
            "Epoch 50000 Loss 2.240 Log_flow 0.394 Energy 2.634 (182.591s elapsed since beginning)\n"
          ],
          "name": "stdout"
        }
      ]
    },
    {
      "cell_type": "code",
      "metadata": {
        "id": "LCJegHdL45cO",
        "colab_type": "code",
        "colab": {}
      },
      "source": [
        "samples, _, _ = complete_flow_net._sample(10000)\n",
        "samples = samples.cpu().detach().numpy()"
      ],
      "execution_count": 0,
      "outputs": []
    },
    {
      "cell_type": "code",
      "metadata": {
        "id": "_0NDsr6N5Upn",
        "colab_type": "code",
        "outputId": "4c70bb29-24f4-4503-e542-dbebca10dba9",
        "colab": {
          "base_uri": "https://localhost:8080/",
          "height": 286
        }
      },
      "source": [
        "import scipy.stats as st\n",
        "\n",
        "x = samples[:, 0]\n",
        "y = samples[:, 1]\n",
        "xmin, xmax = -6, 6\n",
        "ymin, ymax = -6, 6\n",
        "\n",
        "# Peform the kernel density estimate\n",
        "xx, yy = np.mgrid[xmin:xmax:100j, ymin:ymax:100j]\n",
        "positions = np.vstack([xx.ravel(), yy.ravel()])\n",
        "values = np.vstack([x, y])\n",
        "kernel = st.gaussian_kde(values)\n",
        "f = np.reshape(kernel(positions).T, xx.shape)\n",
        "\n",
        "plt.contourf(xx, yy, f, cmap='plasma', levels=200)"
      ],
      "execution_count": 0,
      "outputs": [
        {
          "output_type": "execute_result",
          "data": {
            "text/plain": [
              "<matplotlib.contour.QuadContourSet at 0x7f638b6a0470>"
            ]
          },
          "metadata": {
            "tags": []
          },
          "execution_count": 179
        },
        {
          "output_type": "display_data",
          "data": {
            "image/png": "[encoded data removed]",
            "text/plain": [
              "<Figure size 432x288 with 1 Axes>"
            ]
          },
          "metadata": {
            "tags": []
          }
        }
      ]
    },
    {
      "cell_type": "markdown",
      "metadata": {
        "id": "dUmra6nq_goA",
        "colab_type": "text"
      },
      "source": [
        "We see that we completely fail at approximating the true distribution because the flow is too shallow for the task."
      ]
    }
  ]
}