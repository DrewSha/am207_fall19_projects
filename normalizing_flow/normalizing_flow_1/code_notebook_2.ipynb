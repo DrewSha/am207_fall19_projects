{
  "nbformat": 4,
  "nbformat_minor": 0,
  "metadata": {
    "colab": {
      "name": "AM207-Project-Notebook-2.ipynb",
      "provenance": [],
      "collapsed_sections": []
    },
    "kernelspec": {
      "name": "python3",
      "display_name": "Python 3"
    },
    "accelerator": "GPU"
  },
  "cells": [
    {
      "cell_type": "markdown",
      "metadata": {
        "id": "gAtxPhSWhPlt",
        "colab_type": "text"
      },
      "source": [
        "# Variational Auto-Encoder using Normalizing Flows\n",
        "Abhimanyu Talwar, Julien Laasri, and Nick Feng"
      ]
    },
    {
      "cell_type": "markdown",
      "metadata": {
        "id": "HTuAQ3280NA8",
        "colab_type": "text"
      },
      "source": [
        "# Problem Statement\n",
        "The problem at hand involves doing approximate inference on latent variable models. A Variational Auto-Encoder (VAE) allows us to approximate two distributions of interest:\n",
        "* **Posterior Distribution**: Represented by $p_{Z|X}(\\cdot)$ where $Z$ is the latent variable and $X$ is the observed variable.\n",
        "  * **Why do we want the Posterior?** For one, learning about the latent variable, tells us something about the underlying data generation process. Further, a latent variable representation is often a compact representation of high dimensional data, which can be useful. \n",
        "  * **Why approximate?** The reason exact inference is sometimes hard for the Posterior is because computing the partition function $\\mathcal{Z} = \\sum_z p(x,z)$ is computationally expensive. We have $p_(z|x) = \\frac{p(x,z)}{\\sum_z p(x,z)}$. And thus we resort to approximating the Posterior via another distribution  $q_{\\theta}(z|x)$. \n",
        "  * **How does a VAE represent the Posterior?** In a VAE, $q(\\cdot)$ is parametrized by a neural network (called the \"inference network\" or \"encoder\"). We can write the distribution as follows (here $g_{\\theta}(x)$ represents a neural network with two outputs - $\\mu$ and $\\log{\\Sigma}$):\n",
        "$$q_{\\theta}(z|x) \\sim \\mathcal{N}\\left(g_{\\theta}(x)^{\\mu}, g_{\\theta}(x)^{\\Sigma}\\right)$$\n",
        "\n",
        "* **Generative Distribution**: Represented by $p_{X|Z}(\\cdot)$, this basically defines the data generating process. \n",
        " * **Why do we want the Generative Distribution?** It allows us to draw samples of the random variable $X$.\n",
        " * **Why approximate?** Pretty much for the same reason for which we had to approximate the Posterior - if computing the partition function $\\mathcal{Z}$ is intractable, we cannot compute the probability density for $X$.\n",
        " * **How does a VAE represent the posterior?** In a VAE, this is represented by $p_{\\phi}(x|z)$ and parametrized by another neural network called the \"generative network\" or the \"decoder\". Again, we define the distribution as follows (here $h_{\\phi}$ represents the neural network):\n",
        "$$p_{\\phi}(z|x) \\sim \\mathcal{N}\\left(h_{\\phi}(z), \\mathbb{I}\\right)$$\n",
        "\n",
        "## Paper's Contribution\n",
        "Usually one would approximate the posterior using a Gaussian distribution (as is described above) and in cases where the latent variable distribution is different from a Gaussian (e.g. when it's a multi-modal distribution), then the expressive ability of the approximate Posterior and Generative models will be limited. In the paper [Rezende, Mohamed, 2016], the authors introduce a method for specifying arbitrarily complex distributions using Normalizing Flows, which can get past this issue.\n",
        "\n",
        "\n",
        "The VAE based on Normalizing Flows comprises of an Encoder, a Flow Network, and a Decoder. The network is optimized end-to-end by maximizing the Evidence Lower Bound."
      ]
    },
    {
      "cell_type": "code",
      "metadata": {
        "id": "fSv7hXrLWnqS",
        "colab_type": "code",
        "colab": {}
      },
      "source": [
        "import torch.nn as nn\n",
        "import torch\n",
        "import sys\n",
        "import time\n",
        "\n",
        "device = torch.device('cuda' if torch.cuda.is_available() else 'cpu')"
      ],
      "execution_count": 0,
      "outputs": []
    },
    {
      "cell_type": "code",
      "metadata": {
        "id": "H3vhKUOqkl_w",
        "colab_type": "code",
        "colab": {}
      },
      "source": [
        "def tensorlist_to_tensor(l):\n",
        "    return torch.cat([t.unsqueeze(0) for t in l])"
      ],
      "execution_count": 0,
      "outputs": []
    },
    {
      "cell_type": "markdown",
      "metadata": {
        "id": "mEcDZWochVA_",
        "colab_type": "text"
      },
      "source": [
        "# Flow Network\n",
        "For this project, we have implemented Planar Flows as described in Rezende, Mohamed 2016. The basic building block of Planar Flows is this transformation (Here $h$ is a non-linear function - we have used the hypbolic tangent, and $\\mathbb{u}, \\mathbb{w}, b$ are parameters which are learnt from data. Further, $z$ is the random variable whose distribution we want to transform using $f(\\cdot)$):\n",
        "\n",
        "$$f(z) = z + \\mathbb{u}h\\left(\\mathbb{w}^Tz + b\\right)$$\n",
        "\n",
        "Our Flow Network composes a series of these $f(\\cdot)$'s."
      ]
    },
    {
      "cell_type": "code",
      "metadata": {
        "id": "AQ3DyY74WwEA",
        "colab_type": "code",
        "colab": {}
      },
      "source": [
        "class Flow(nn.Module):\n",
        "    def __init__(self, K, D):\n",
        "        super().__init__()\n",
        "        self.K = K\n",
        "        self.linear_layers = nn.ModuleList([nn.Linear(D, 1) for _ in range(K)])\n",
        "        self.u_vectors = nn.Parameter(data=torch.empty(K,D).uniform_(-0.01,0.01))\n",
        "\n",
        "    def _init_weights(self):\n",
        "        for layer in self.linear_layers:\n",
        "            layer.weight.data.uniform_(-0.01, 0.01)\n",
        "            layer.bias.data.uniform_(-0.01, 0.01)\n",
        "    \n",
        "    def forward(self, z):\n",
        "        all_zs = [z]\n",
        "        all_u_times_psis = []\n",
        "        for linear_layer, u_vector in zip(self.linear_layers,\n",
        "                                          self.u_vectors):\n",
        "            z_prev = all_zs[-1]\n",
        "            linear_layer_output = linear_layer(z_prev)\n",
        "            tanh_output = torch.tanh(linear_layer_output)\n",
        "            all_zs.append((z_prev + u_vector * tanh_output))\n",
        "            all_u_times_psis.append(torch.sum(u_vector * (1 - tanh_output**2) * linear_layer.weight, dim=1))\n",
        "        # return tensorlist_to_tensor(all_zs), tensorlist_to_tensor(all_u_times_psis)\n",
        "        return all_zs, tensorlist_to_tensor(all_u_times_psis).permute(1, 0)"
      ],
      "execution_count": 0,
      "outputs": []
    },
    {
      "cell_type": "markdown",
      "metadata": {
        "id": "V70d1dnThW2B",
        "colab_type": "text"
      },
      "source": [
        "# Inference Network (Also known as the Encoder)\n",
        "We havse used a series of Affine and ReLU non-linearity layers for our Inference Network. It has two outputs: $\\mu$ and $\\log diag(\\Sigma)$, which are the mean and log-variance of the distribution of $Z$. "
      ]
    },
    {
      "cell_type": "code",
      "metadata": {
        "id": "4vGVC69qmXOz",
        "colab_type": "code",
        "colab": {}
      },
      "source": [
        "class InferenceNetwork(nn.Module):\n",
        "    def __init__(self, input_dim, hidden_dim, n, D):\n",
        "        super().__init__()\n",
        "        self.linear_layers = nn.ModuleList([nn.Linear(input_dim, hidden_dim)] +\\\n",
        "                                           [nn.Linear(hidden_dim, hidden_dim) for _ in range(n)])\n",
        "        self.mu_layer = nn.Linear(hidden_dim, D)\n",
        "        self.logvar_layer = nn.Linear(hidden_dim, D)\n",
        "    \n",
        "    def forward(self, x):\n",
        "        h = x\n",
        "        for ll in self.linear_layers:\n",
        "            h = torch.relu(ll(h))\n",
        "        return self.mu_layer(h), self.logvar_layer(h)"
      ],
      "execution_count": 0,
      "outputs": []
    },
    {
      "cell_type": "markdown",
      "metadata": {
        "id": "juy_JWQ4harw",
        "colab_type": "text"
      },
      "source": [
        "# Generative Network (Also known as the Decoder)\n",
        "Our Decoder architecture is similar to our Encoder architecture (a series of Affine and ReLU layers), except that there is only one output - the reconstructed $X$."
      ]
    },
    {
      "cell_type": "code",
      "metadata": {
        "id": "XF0Z9e3kqWDl",
        "colab_type": "code",
        "colab": {}
      },
      "source": [
        "class GenerativeNetwork(nn.Module):\n",
        "    def __init__(self, input_dim, hidden_dim, n, D):\n",
        "        super().__init__()\n",
        "        self.linear_layers = nn.ModuleList([nn.Linear(D, hidden_dim)] + \\\n",
        "                                           [nn.Linear(hidden_dim, hidden_dim) for _ in range(n)])\n",
        "        self.reconstruction_layer = nn.Linear(hidden_dim, input_dim)\n",
        "    \n",
        "    def forward(self, x):\n",
        "        h = x\n",
        "        for ll in self.linear_layers:\n",
        "            h = torch.relu(ll(h))\n",
        "        return self.reconstruction_layer(h)"
      ],
      "execution_count": 0,
      "outputs": []
    },
    {
      "cell_type": "markdown",
      "metadata": {
        "id": "zXOT1zPahf94",
        "colab_type": "text"
      },
      "source": [
        "# Complete VAE (combines Encoder, Flows, and the Decoder)"
      ]
    },
    {
      "cell_type": "code",
      "metadata": {
        "id": "9ndA3jY-qkJT",
        "colab_type": "code",
        "colab": {}
      },
      "source": [
        "class CompleteNet(nn.Module):\n",
        "    def __init__(self, input_dim, hidden_dim, D, K, n_layers, alpha):\n",
        "        super().__init__()\n",
        "        self.inference_net = InferenceNetwork(input_dim, hidden_dim, n_layers, D)\n",
        "        self.flow_net = Flow(K, D)\n",
        "        self.generative_net = GenerativeNetwork(input_dim, hidden_dim, n_layers, D)\n",
        "        self.alpha = alpha\n",
        "    \n",
        "    def _sample(self, mu, logvar):\n",
        "        return mu + (0.5*torch.exp(logvar))*torch.randn_like(mu)\n",
        "\n",
        "    def forward(self, x):\n",
        "        mu, logvar = self.inference_net(x)\n",
        "        z = self._sample(mu, logvar)\n",
        "        all_zs, all_u_times_psis = self.flow_net(z)\n",
        "        z_K = all_zs[-1]\n",
        "        reconst_x = self.generative_net(z_K)\n",
        "\n",
        "        log_q0 = torch.mean(torch.sum(-.5 * logvar - .5 * (z - mu) ** 2 / torch.exp(logvar), dim=1))\n",
        "        log_joint = torch.mean(torch.sum(-.5 * z_K ** 2, dim=1) - torch.sum((reconst_x - x) ** 2, dim=1))\n",
        "        log_flow = torch.mean(torch.sum(torch.log(torch.abs(1 + all_u_times_psis) + 1e-6), dim=1))\n",
        "\n",
        "        loss = log_q0 - self.alpha * log_joint - log_flow\n",
        "        return loss, log_q0, log_joint, log_flow"
      ],
      "execution_count": 0,
      "outputs": []
    },
    {
      "cell_type": "markdown",
      "metadata": {
        "id": "6_INlcEji3MI",
        "colab_type": "text"
      },
      "source": [
        "# Data for Training VAE\n",
        "We generate a mixture of three Gaussians with different means and variances. The latent variables are:\n",
        "* Categorical Probabilities $\\pi = [c_1,c_2,c_3]$\n",
        "* Gaussian Means $\\mu = [\\mu_1, \\mu_2, \\mu_3]$\n",
        "* Gaussian variances $\\sigma = [\\sigma_1, \\sigma_2, \\sigma_3]$\n",
        "\n",
        "We generate 5000 samples to train our VAE on."
      ]
    },
    {
      "cell_type": "code",
      "metadata": {
        "id": "cgs3cdhu4FuP",
        "colab_type": "code",
        "colab": {}
      },
      "source": [
        "import numpy as np\n",
        "import matplotlib.pyplot as plt\n",
        "import seaborn as sns\n",
        "\n",
        "sns.set_style('whitegrid')"
      ],
      "execution_count": 0,
      "outputs": []
    },
    {
      "cell_type": "code",
      "metadata": {
        "id": "qrUX39wN4H3h",
        "colab_type": "code",
        "colab": {}
      },
      "source": [
        "# Mixture of Gaussians\n",
        "N = 5000\n",
        "K = 3\n",
        "pis = [0.2, 0.6, 0.2]\n",
        "mus = [.3, -.2, 0]\n",
        "variances = [0.05**2, 0.07**2, 0.05**2]\n",
        "# variances = [1.0, 1.0, 1.0]\n",
        "\n",
        "zs = np.random.choice(np.arange(K), size=N, p=pis)\n",
        "y = np.array([np.random.normal(mus[z], variances[z]**0.5, 1)[0] for z in zs])"
      ],
      "execution_count": 0,
      "outputs": []
    },
    {
      "cell_type": "code",
      "metadata": {
        "id": "Iglx9-DF4IQw",
        "colab_type": "code",
        "colab": {}
      },
      "source": [
        "def plot_mixture_hist(zs,y):\n",
        "    fig, ax = plt.subplots()\n",
        "    unique_zs = np.unique(zs)\n",
        "    for z in unique_zs:\n",
        "        sns.distplot(y[zs == z], bins=100, ax=ax)\n",
        "    fig.set_size_inches(12,7)\n",
        "\n",
        "def plot_mixture_scatter(zs,y):\n",
        "    fig, ax = plt.subplots()\n",
        "    unique_zs = np.unique(zs)\n",
        "    for z in unique_zs:\n",
        "        sns.scatterplot(x=y[zs==z,0], y=y[zs==z,1])\n",
        "    fig.set_size_inches(12,7)"
      ],
      "execution_count": 0,
      "outputs": []
    },
    {
      "cell_type": "code",
      "metadata": {
        "id": "cwiRLm4Y4KkP",
        "colab_type": "code",
        "outputId": "9c706758-cde1-4722-ab0a-5e17dfcdc353",
        "colab": {
          "base_uri": "https://localhost:8080/",
          "height": 428
        }
      },
      "source": [
        "plot_mixture_hist(zs, y)"
      ],
      "execution_count": 0,
      "outputs": [
        {
          "output_type": "display_data",
          "data": {
            "image/png": "[encoded data removed]",
            "text/plain": [
              "<Figure size 864x504 with 1 Axes>"
            ]
          },
          "metadata": {
            "tags": []
          }
        }
      ]
    },
    {
      "cell_type": "code",
      "metadata": {
        "id": "1OFkRmwC6VXI",
        "colab_type": "code",
        "outputId": "7f639a9b-b36a-434f-e344-1f498f8275a9",
        "colab": {
          "base_uri": "https://localhost:8080/",
          "height": 35
        }
      },
      "source": [
        "tensor_y = torch.tensor(y, dtype=torch.float32).unsqueeze(1).to(device)\n",
        "tensor_y.shape"
      ],
      "execution_count": 0,
      "outputs": [
        {
          "output_type": "execute_result",
          "data": {
            "text/plain": [
              "torch.Size([5000, 1])"
            ]
          },
          "metadata": {
            "tags": []
          },
          "execution_count": 17
        }
      ]
    },
    {
      "cell_type": "markdown",
      "metadata": {
        "id": "tJ5U_XJoCYCQ",
        "colab_type": "text"
      },
      "source": [
        "# Training\n",
        "The VAE involves a large number of hyper-parameters (number of layers in Inference, Flow, Generative networks, choice of non-linearities, choice of parameter initializations, number of Normalizing Flow layers, and the usual training related hyper-parameters such as choice of optimizer, learning rates etc.) Our final hyperparameter choices are shown in the cell below: "
      ]
    },
    {
      "cell_type": "code",
      "metadata": {
        "id": "Su4J4fMs4gJO",
        "colab_type": "code",
        "colab": {}
      },
      "source": [
        "model_config = {\n",
        "    'input_dim': 1, \n",
        "    'hidden_dim': 16, \n",
        "    'D': 8, \n",
        "    'K': 16, \n",
        "    'n_layers': 4,\n",
        "    'alpha': 1.0,\n",
        "}\n",
        "\n",
        "model = CompleteNet(**model_config)\n",
        "model.to(device);\n",
        "optimizer = torch.optim.Adam(model.parameters(), lr=1e-3)"
      ],
      "execution_count": 0,
      "outputs": []
    },
    {
      "cell_type": "code",
      "metadata": {
        "id": "1ICRjGwRX2xX",
        "colab_type": "code",
        "outputId": "067e9d7c-583a-4f53-88b4-050e65fe967a",
        "colab": {
          "base_uri": "https://localhost:8080/",
          "height": 230
        }
      },
      "source": [
        "num_epochs = 1000\n",
        "batch_size = 1024\n",
        "update_freq = 100\n",
        "num_batches = int(tensor_y.shape[0]/batch_size)\n",
        "for epoch in range(num_epochs):\n",
        "    t0 = time.time()\n",
        "    indices = np.random.choice(np.arange(tensor_y.shape[0]), \n",
        "                               size=tensor_y.shape[0],\n",
        "                               replace=False)\n",
        "    epoch_loss = 0.0\n",
        "    running_loss = 0.0\n",
        "    \n",
        "    for b in range(num_batches): \n",
        "        loss, log_q0, log_joint, log_flow = model(tensor_y[b*batch_size:(b+1)*batch_size,:])\n",
        "        optimizer.zero_grad()\n",
        "        loss.backward()\n",
        "        epoch_loss += loss.item()\n",
        "        running_loss += loss.item()\n",
        "        optimizer.step()\n",
        "        if epoch == 0 or epoch % update_freq == update_freq-1 and b%2 == 0:\n",
        "            if b == 0:\n",
        "                prefix = '\\n'\n",
        "            else:\n",
        "                prefix = '\\r'\n",
        "            sys.stdout.write(prefix + f'Epoch {epoch+1} Batch {b+1}/{num_batches} Loss {running_loss:.2f} Time {time.time()-t0:.1f}s')\n",
        "            running_loss = 0\n",
        "    if epoch == 0 or epoch % update_freq == update_freq-1:\n",
        "        sys.stdout.write(prefix + f'Epoch {epoch+1} Batch {b+1}/{num_batches} Loss {epoch_loss/num_batches:.2f}  Time {time.time()-t0:.1f}s')\n",
        "        # print(f'Epoch {epoch+1} Loss {epoch_loss/num_batches:.3f} Log_q0 {log_q0:.3f} Log_joint {log_joint:.3f} Log_flow {log_flow:.3f}')"
      ],
      "execution_count": 0,
      "outputs": [
        {
          "output_type": "stream",
          "text": [
            "\n",
            "Epoch 1 Batch 4/4 Loss -15.04  Time 0.1s\n",
            "Epoch 100 Batch 4/4 Loss -23.99  Time 0.1s\n",
            "Epoch 200 Batch 4/4 Loss -24.68  Time 0.1s\n",
            "Epoch 300 Batch 4/4 Loss -24.94  Time 0.1s\n",
            "Epoch 400 Batch 4/4 Loss -25.22  Time 0.1s\n",
            "Epoch 500 Batch 4/4 Loss -25.51  Time 0.1s\n",
            "Epoch 600 Batch 4/4 Loss -25.56  Time 0.1s\n",
            "Epoch 700 Batch 4/4 Loss -25.59  Time 0.1s\n",
            "Epoch 800 Batch 4/4 Loss -25.59  Time 0.1s\n",
            "Epoch 900 Batch 4/4 Loss -25.62  Time 0.1s\n",
            "Epoch 1000 Batch 4/4 Loss -25.62  Time 0.1s"
          ],
          "name": "stdout"
        }
      ]
    },
    {
      "cell_type": "markdown",
      "metadata": {
        "id": "3H_8TCC9C-bf",
        "colab_type": "text"
      },
      "source": [
        "# Results: Generated Samples\n",
        "The plot below shows samples generated by our Decoder after 20k epochs of training the VAE. We see that while we are able to generate a tri-modal distribution, which are similar to the mixture of three Gaussian we had used to generate training data, the model still falls short of learning the latent variables perfectly. Specifically:\n",
        "\n",
        "* The locations three modes are different from the true means $[-0.3, 0.0, 0.2]$.\n",
        "* The categorical probabilities are not learnt - the true probabiities corresponding to the means above were $[0.2, 0.6, 0.2]$"
      ]
    },
    {
      "cell_type": "code",
      "metadata": {
        "id": "HBBWjWI16o05",
        "colab_type": "code",
        "colab": {}
      },
      "source": [
        "num_generate = 3000\n",
        "z0 = torch.randn(num_generate, model_config[\"D\"])\n",
        "all_zs, _ = model.flow_net(z0.cuda())\n",
        "zK = all_zs[-1]\n",
        "x = model.generative_net(zK).cpu().detach().numpy().flatten()"
      ],
      "execution_count": 0,
      "outputs": []
    },
    {
      "cell_type": "code",
      "metadata": {
        "id": "_w7ONA9T2xeg",
        "colab_type": "code",
        "outputId": "1b0fcced-f101-4e98-845b-592aa4ae1051",
        "colab": {
          "base_uri": "https://localhost:8080/",
          "height": 428
        }
      },
      "source": [
        "plot_mixture_hist(np.ones(num_generate), x)"
      ],
      "execution_count": 0,
      "outputs": [
        {
          "output_type": "display_data",
          "data": {
            "image/png": "[encoded data removed]",
            "text/plain": [
              "<Figure size 864x504 with 1 Axes>"
            ]
          },
          "metadata": {
            "tags": []
          }
        }
      ]
    },
    {
      "cell_type": "markdown",
      "metadata": {
        "id": "WLZ6Dkv0E7CH",
        "colab_type": "text"
      },
      "source": [
        "# Conclusion and Further Work\n",
        "While we failed to accurately learn the data generating process, we weren't able to search the hyperparameter space exhaustively. So for future work on this:\n",
        "\n",
        "* We could tune the weights assigned to terms related to reconstruction and regularization losses.\n",
        "* We could do a more exhaustive search on architecture parameters such as number of layers, number of hidden nodes etc."
      ]
    },
    {
      "cell_type": "code",
      "metadata": {
        "id": "KbJHr4DrFN1_",
        "colab_type": "code",
        "colab": {}
      },
      "source": [
        ""
      ],
      "execution_count": 0,
      "outputs": []
    }
  ]
}